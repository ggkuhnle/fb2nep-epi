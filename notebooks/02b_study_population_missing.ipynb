{
 "cells": [
  {
   "cell_type": "markdown",
   "metadata": {},
   "source": [
    "# 02b · Study population & missing data plan\n",
    "\n",
    "> **Purpose**: define the *analysis cohort* transparently (inclusion/exclusion), describe exclusions with a simple flow, compare included vs excluded participants, and agree a pragmatic missing-data strategy to carry forward.\n",
    "\n",
    "> **Learning objectives**\n",
    "- Specify clear inclusion/exclusion rules and reproduce them in code.\n",
    "- Produce a CONSORT-style flow (counts at each step) and save it.\n",
    "- Compare baseline traits of included vs excluded to check selection bias risks.\n",
    "- Choose a *default* missing-data approach (complete-case vs simple impute) for subsequent notebooks.\n",
    "\n",
    "---"
   ]
  },
  {
   "cell_type": "code",
   "execution_count": null,
   "id": "bf227d43",
   "metadata": {},
   "outputs": [],
   "source": [
    "# Make sure the repo root (which has scripts/bootstrap.py) is on sys.path.\n",
    "import sys, os, pathlib, subprocess\n",
    "\n",
    "REPO_NAME = \"fb2nep-epi\"\n",
    "REPO_URL  = \"https://github.com/ggkuhnle/fb2nep-epi.git\"\n",
    "IN_COLAB  = \"google.colab\" in sys.modules\n",
    "\n",
    "def ensure_repo_on_path():\n",
    "    here = pathlib.Path.cwd()\n",
    "    # Walk up a few levels to find scripts/bootstrap.py\n",
    "    for p in [here, *here.parents]:\n",
    "        if (p / \"scripts\" / \"bootstrap.py\").exists():\n",
    "            os.chdir(p)                 # normalise CWD to repo root\n",
    "            sys.path.append(str(p))     # ensure imports like \"from scripts...\" work\n",
    "            return p\n",
    "    # Not found locally: if on Colab, clone then chdir\n",
    "    if IN_COLAB:\n",
    "        # clone only if missing\n",
    "        if not (pathlib.Path(\"/content\") / REPO_NAME).exists():\n",
    "            subprocess.run([\"git\", \"clone\", REPO_URL], check=False)\n",
    "        os.chdir(f\"/content/{REPO_NAME}\")\n",
    "        sys.path.append(os.getcwd())\n",
    "        return pathlib.Path.cwd()\n",
    "    # Otherwise, we can’t proceed\n",
    "    raise FileNotFoundError(\"Could not find repo root containing scripts/bootstrap.py\")\n",
    "\n",
    "repo_root = ensure_repo_on_path()\n",
    "print(\"Repo root:\", repo_root)"
   ]
  },
  {
   "cell_type": "code",
   "execution_count": null,
   "metadata": {},
   "outputs": [],
   "source": [
    "# Bootstrap: ensure repo root on path, then import init\n",
    "import sys, pathlib\n",
    "sys.path.append(str(pathlib.Path.cwd().parent))\n",
    "from scripts.bootstrap import init\n",
    "df, ctx = init()\n",
    "df.head(2)"
   ]
  },
  {
   "cell_type": "markdown",
   "metadata": {},
   "source": [
    "## 1) Inclusion / Exclusion rules (edit if needed)\n",
    "\n",
    "**Default rules for this cohort**\n",
    "- Age ≥ 40 years at baseline.\n",
    "- Non-missing: key covariates for modelling: `age`, `sex`, `BMI`, `SES_class`, `IMD_quintile`, `smoking_status`.\n",
    "- For *prospective* analyses later, require `baseline_date` present.\n",
    "- Exposure/outcome specific requirements will be applied in their respective notebooks.\n",
    "\n",
    "_You can tighten/relax these below and regenerate the flow._"
   ]
  },
  {
   "cell_type": "code",
   "execution_count": null,
   "metadata": {},
   "outputs": [],
   "source": [
    "import pandas as pd\n",
    "N0 = len(df)\n",
    "\n",
    "# Start: all participants\n",
    "pop = df.copy()\n",
    "\n",
    "# Rule A: age >= 40 (already true by design, but keep explicit)\n",
    "mask_age = pop['age'] >= 40\n",
    "N_age = mask_age.sum()\n",
    "pop = pop[mask_age].copy()\n",
    "\n",
    "# Rule B: baseline_date present (prospective work later)\n",
    "mask_base = pop['baseline_date'].notna()\n",
    "N_base = mask_base.sum()\n",
    "pop = pop[mask_base].copy()\n",
    "\n",
    "# Rule C: key covariates non-missing (for a default teaching cohort)\n",
    "key_covars = ['age','sex','BMI','SES_class','IMD_quintile','smoking_status']\n",
    "mask_cov = pop[key_covars].notna().all(axis=1)\n",
    "N_cov = mask_cov.sum()\n",
    "analysis_cohort = pop[mask_cov].copy()\n",
    "\n",
    "flow = pd.DataFrame([\n",
    "    {\"step\":\"Start (all)\", \"n\": N0},\n",
    "    {\"step\":\"Age ≥ 40\", \"n\": int(N_age)},\n",
    "    {\"step\":\"Baseline date present\", \"n\": int(N_base)},\n",
    "    {\"step\":\"Key covariates non-missing\", \"n\": int(N_cov)}\n",
    "])\n",
    "flow"
   ]
  },
  {
   "cell_type": "markdown",
   "metadata": {},
   "source": [
    "### Save flow and derived cohort\n",
    "We keep a CSV of the flow and a derived cohort for reproducibility (later notebooks may choose further, question-specific filters)."
   ]
  },
  {
   "cell_type": "code",
   "execution_count": null,
   "metadata": {},
   "outputs": [],
   "source": [
    "from pathlib import Path\n",
    "Path('derived').mkdir(exist_ok=True)\n",
    "flow.to_csv('derived/consort_flow_default.csv', index=False)\n",
    "analysis_cohort.to_csv('derived/analysis_cohort_default.csv', index=False)\n",
    "print('Saved: derived/consort_flow_default.csv; derived/analysis_cohort_default.csv')\n",
    "analysis_cohort.shape"
   ]
  },
  {
   "cell_type": "markdown",
   "metadata": {},
   "source": [
    "## 2) Included vs excluded (selection check)\n",
    "Compare some baseline variables between **included** and **excluded** after Rule C (key covariates complete). Large differences suggest possible **selection bias** if missingness relates to exposure/outcome."
   ]
  },
  {
   "cell_type": "code",
   "execution_count": null,
   "metadata": {},
   "outputs": [],
   "source": [
    "import numpy as np\n",
    "df_tmp = df.copy()\n",
    "need = df_tmp[['age','sex','BMI','SES_class','IMD_quintile','smoking_status','SBP']].copy()\n",
    "inc_mask = need.notna().all(axis=1)\n",
    "need['included'] = np.where(inc_mask, 'Included','Excluded')\n",
    "\n",
    "def num_summary(d, v):\n",
    "    return d.groupby('included')[v].agg(['mean','std','median','count']).round(2)\n",
    "def cat_summary(d, v):\n",
    "    ct = pd.crosstab(d['included'], d[v], normalize='index').round(3)\n",
    "    return ct\n",
    "\n",
    "tab_age  = num_summary(need, 'age')\n",
    "tab_bmi  = num_summary(need, 'BMI')\n",
    "tab_sex  = cat_summary(need, 'sex')\n",
    "tab_ses  = cat_summary(need, 'SES_class')\n",
    "tab_imd  = cat_summary(need, 'IMD_quintile')\n",
    "tab_smok = cat_summary(need, 'smoking_status')\n",
    "tab_age, tab_bmi, tab_sex, tab_ses.head(), tab_imd.head(), tab_smok.head()"
   ]
  },
  {
   "cell_type": "markdown",
   "metadata": {},
   "source": [
    "_Prompt_: Are excluded participants older / more deprived / different smokers? If yes, discuss direction of potential bias for your question (e.g., could complete-case inflate/attenuate associations?)."
   ]
  },
  {
   "cell_type": "markdown",
   "metadata": {},
   "source": [
    "## 3) Missing-data map and drivers\n",
    "High-level visual of missingness and quick probes of likely **MAR** drivers (age, IMD, SES)."
   ]
  },
  {
   "cell_type": "code",
   "execution_count": null,
   "metadata": {},
   "outputs": [],
   "source": [
    "import matplotlib.pyplot as plt\n",
    "miss_rate = df.isna().mean().sort_values(ascending=False)\n",
    "\n",
    "plt.figure(figsize=(7.5,3.6))\n",
    "plt.bar(miss_rate.index[:20], miss_rate.values[:20])\n",
    "plt.xticks(rotation=75, ha='right'); plt.ylabel('Proportion missing')\n",
    "plt.title('Top 20 variables by missingness')\n",
    "plt.tight_layout(); plt.show()\n",
    "\n",
    "# Example probe: missing vit C by SES\n",
    "import pandas as pd\n",
    "if 'plasma_vitC_umol_L' in df:\n",
    "    mflag = df['plasma_vitC_umol_L'].isna().astype(int)\n",
    "    pd.crosstab(df['SES_class'], mflag, normalize='index').round(3)"
   ]
  },
  {
   "cell_type": "markdown",
   "metadata": {},
   "source": [
    "## 4) Default missing-data strategy to carry forward\n",
    "For **teaching** (no extra deps), choose **one** of:\n",
    "\n",
    "A) **Complete-case per-analysis**: drop rows with any missingness in variables used *for that analysis* (preferred base).  \n",
    "B) **Crude imputation for select covariates**: median for continuous, mode for categoricals (only if you need stable n for in-class comparisons).\n",
    "\n",
    "_Record your choice below_; later notebooks will respect it if you load the saved cohort or reapply the function here."
   ]
  },
  {
   "cell_type": "code",
   "execution_count": null,
   "metadata": {},
   "outputs": [],
   "source": [
    "CHOICE = 'A'  # 'A' or 'B'\n",
    "\n",
    "def impute_simple(d):\n",
    "    out = d.copy()\n",
    "    for c in out.select_dtypes(include=['float64','int64']).columns:\n",
    "        out[c] = out[c].fillna(out[c].median())\n",
    "    for c in out.select_dtypes(include=['object','category']).columns:\n",
    "        md = out[c].mode(dropna=True)\n",
    "        if len(md): out[c] = out[c].fillna(md.iloc[0])\n",
    "    return out\n",
    "\n",
    "cohort_for_next = analysis_cohort.copy() if CHOICE=='A' else impute_simple(analysis_cohort)\n",
    "cohort_for_next.to_csv('derived/analysis_cohort_default_next.csv', index=False)\n",
    "print('Saved: derived/analysis_cohort_default_next.csv (strategy', CHOICE, ')')\n",
    "cohort_for_next.shape"
   ]
  },
  {
   "cell_type": "markdown",
   "metadata": {},
   "source": [
    "## 5) # TODO — your turn\n",
    "1. Tighten one rule (e.g., require non-missing `SBP`) and regenerate the flow. What’s the new *n* and who did you drop?\n",
    "2. Create an **exposure-specific** cohort for *salt → CVD* by requiring non-missing `salt_g_d` and `urinary_sodium_mmol_L`; save as `derived/cohort_salt.csv`.\n",
    "3. Write 2–3 sentences on the **selection risk** posed by your exclusions. Which direction of bias is plausible for your primary analysis?\n",
    "4. If you chose **B** (impute), list at least two limitations vs multiple imputation.\n",
    "\n",
    "_We will load `derived/analysis_cohort_default_next.csv` in Notebook 03 unless you override the path there._"
   ]
  }
 ],
 "metadata": {
  "kernelspec": {
   "display_name": "Python 3",
   "language": "python",
   "name": "python3"
  },
  "language_info": {
   "name": "python"
  }
 },
 "nbformat": 4,
 "nbformat_minor": 5
}
