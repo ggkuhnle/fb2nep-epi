{
 "cells": [
  {"cell_type":"markdown","source":["# 07 · Advanced topics — confounding, colliders, mediation, imputation\n",
   "- Distinguish confounder vs mediator vs collider.\n",
   "- Explore bias by (in)correct adjustment.\n",
   "- Introduce multiple imputation conceptually."]}
 ],
 "metadata":{"kernelspec":{"display_name":"Python 3","language":"python","name":"python3"}},
 "nbformat":4,"nbformat_minor":5}