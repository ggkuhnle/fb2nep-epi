{
 "cells": [
  {
   "cell_type": "markdown",
   "metadata": {},
   "source": [
    "# 02 · Study Designs, Exposures & Outcomes\n",
    "\n",
    "> **Learning objectives**\n",
    "- Distinguish major epidemiological designs (cross-sectional, cohort, case–control, RCT).\n",
    "- Explain why nutrition studies are often observational.\n",
    "- Contrast self-reported vs biomarker exposures.\n",
    "- Recognise outcome definitions and risks of misclassification.\n",
    "- Illustrate design logic using DAGs (Directed Acyclic Graphs).\n",
    "\n",
    "---"
   ]
  },
  {
   "cell_type": "code",
   "execution_count": null,
   "metadata": {},
   "outputs": [],
   "source": [
    "# Bootstrap (works in Colab or locally) — loads df via scripts/bootstrap.py\n",
    "import runpy, pathlib\n",
    "for p in [\"scripts/bootstrap.py\",\"../scripts/bootstrap.py\",\"../../scripts/bootstrap.py\"]:\n",
    "    if pathlib.Path(p).exists():\n",
    "        print(f\"Bootstrapping via: {p}\")\n",
    "        runpy.run_path(p)\n",
    "        break\n",
    "else:\n",
    "    raise FileNotFoundError(\"scripts/bootstrap.py not found\")\n",
    "\n",
    "print(df.shape, \"— dataset ready\")"
   ]
  },
  {
   "cell_type": "markdown",
   "metadata": {},
   "source": [
    "## 1. Study designs in nutrition research\n",
    "\n",
    "| Design              | Strengths                                | Weaknesses                              | Typical use |\n",
    "|---------------------|------------------------------------------|-----------------------------------------|-------------|\n",
    "| Cross-sectional     | Quick, cheap; hypothesis generation      | No temporality, prone to confounding     | Surveys     |\n",
    "| Cohort              | Temporal sequence; multiple outcomes     | Costly; loss to follow-up; confounding   | Diet & CVD  |\n",
    "| Case–control        | Efficient for rare outcomes              | Recall & selection bias                  | Cancer      |\n",
    "| Nested case–control | Stored biosamples; efficient             | Smaller sample; matching issues          | Biomarkers  |\n",
    "| RCT                 | Randomisation reduces confounding        | Expensive, short-term; ethics            | Salt/BP     |"
   ]
  },
  {
   "cell_type": "markdown",
   "metadata": {},
   "source": [
    "### Discussion\n",
    "- Why are RCTs difficult in nutrition? (cost, compliance, long-term exposure).\n",
    "- Why are cross-sectional designs weak for causal inference?\n",
    "- Why do we still rely on them for policy signals?"
   ]
  },
  {
   "cell_type": "markdown",
   "metadata": {},
   "source": [
    "## 2. Exposures: self-report vs biomarkers\n",
    "- **Self-report**: 24HR, FFQ, diet diaries → cheap, scalable, but **misreporting**.\n",
    "- **Biomarkers**: recovery (urinary N), concentration (plasma vit C), replacement (urinary Na) → more objective, but costly, sometimes invasive.\n",
    "\n",
    "🟢 **Practice**: check that fruit & veg intake (self-report) aligns with plasma vitamin C (biomarker)."
   ]
  },
  {
   "cell_type": "code",
   "execution_count": null,
   "metadata": {},
   "outputs": [],
   "source": [
    "import pandas as pd\n",
    "q = pd.qcut(df['fruit_veg_g_d'], 5, duplicates='drop')\n",
    "df.groupby(q)['plasma_vitC_umol_L'].mean().round(1)"
   ]
  },
  {
   "cell_type": "markdown",
   "metadata": {},
   "source": [
    "## 3. Outcomes: definitions & misclassification\n",
    "- **Clinical**: myocardial infarction, cancer diagnosis (often registry-confirmed).\n",
    "- **Intermediate**: blood pressure, cholesterol.\n",
    "- Misclassification can be:\n",
    "  - *Non-differential*: biases towards null.\n",
    "  - *Differential*: can bias in either direction.\n",
    "\n",
    "_Check integrity:_ if CVD_incident=1 then CVD_date must not be empty."
   ]
  },
  {
   "cell_type": "code",
   "execution_count": null,
   "metadata": {},
   "outputs": [],
   "source": [
    "for flag,date in [(\"CVD_incident\",\"CVD_date\"),(\"Cancer_incident\",\"Cancer_date\")]:\n",
    "    f = df[flag].astype(int)\n",
    "    d = df[date].fillna(\"\")\n",
    "    assert ((f==1) <= (d!=\"\")).all(), f\"{date}: missing dates for incidents\"\n",
    "print(\"Outcome-date integrity OK ✅\")"
   ]
  },
  {
   "cell_type": "markdown",
   "metadata": {},
   "source": [
    "## 4. DAG illustration (exposure → outcome)\n",
    "We can represent causal assumptions with a **Directed Acyclic Graph (DAG)**. Example: red meat → cancer, confounded by SES and smoking."
   ]
  },
  {
   "cell_type": "code",
   "execution_count": null,
   "metadata": {},
   "outputs": [],
   "source": [
    "import networkx as nx\n",
    "import matplotlib.pyplot as plt\n",
    "\n",
    "G = nx.DiGraph()\n",
    "G.add_edges_from([\n",
    "    (\"SES\",\"red_meat\"),(\"SES\",\"Cancer\"),\n",
    "    (\"Smoking\",\"red_meat\"),(\"Smoking\",\"Cancer\"),\n",
    "    (\"red_meat\",\"Cancer\")\n",
    "])\n",
    "pos = {\"SES\":(-1,1),\"Smoking\":(1,1),\"red_meat\":(0,0),\"Cancer\":(0,-1)}\n",
    "plt.figure(figsize=(4,4))\n",
    "nx.draw(G,pos,with_labels=True,node_color=\"#e0f7fa\",node_size=2000,arrows=True)\n",
    "plt.title(\"DAG: confounding in red meat–cancer\")\n",
    "plt.show()"
   ]
  },
  {
   "cell_type": "markdown",
   "metadata": {},
   "source": [
    "## # TODO exercises\n",
    "1. Compute crude incidence (%) of cancer by **SES group** (ABC1 vs C2DE). Do you see a gradient?\n",
    "2. Stratify red meat intake by smoking status (never/former/current). Comment on possible confounding.\n",
    "3. Draft (Markdown cell) one sentence describing the **strength** of cohort vs case–control for studying diet and cancer."
   ]
  },
  {
   "cell_type": "code",
   "execution_count": null,
   "metadata": {},
   "outputs": [],
   "source": [
    "# 1. Crude cancer incidence by SES\n",
    "res = df.groupby('SES')['Cancer_incident'].mean().round(3)\n",
    "print(res)\n",
    "assert 0.05 <= res.min() <= 0.20, \"SES-specific incidence should be plausible\""
   ]
  },
  {
   "cell_type": "code",
   "execution_count": null,
   "metadata": {},
   "outputs": [],
   "source": [
    "# 2. Red meat intake by smoking\n",
    "df.groupby('smoking_status')['red_meat_g_d'].mean().round(1)"
   ]
  },
  {
   "cell_type": "markdown",
   "metadata": {},
   "source": [
    "> ## Key takeaways\n",
    ">\n",
    "> - Different designs answer different questions; no single design is sufficient.\n",
    "> - Nutrition research leans heavily on **cohorts** due to long-term exposures/outcomes.\n",
    "> - Exposures: **self-report** is noisy; **biomarkers** strengthen inference but add cost.\n",
    "> - Outcomes: careful definitions matter; misclassification dilutes effects.\n",
    "> - DAGs clarify assumptions: who to adjust for, who not."
   ]
  },
  {
   "cell_type": "markdown",
   "metadata": {},
   "source": [
    "### Checkpoint\n",
    "- Which design is best for **rare cancers**? Why?\n",
    "- Which design is best for **short-term effects of diet on BP**? Why?\n",
    "- Next session: Data foundations — cleaning, types, missingness."
   ]
  }
 ],
 "metadata": {
  "kernelspec": {
   "display_name": "Python 3",
   "language": "python",
   "name": "python3"
  },
  "language_info": {
   "name": "python"
  },
  "colab": {
   "provenance": []
  }
 },
 "nbformat": 4,
 "nbformat_minor": 5
}

