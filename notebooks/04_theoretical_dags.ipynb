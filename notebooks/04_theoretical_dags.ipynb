{
 "cells": [
  {"cell_type":"markdown","source":["# 04 · Theoretical model building — DAGs\n",
   "- What is a DAG and why use it in epidemiology.\n",
   "- Build simple causal diagrams for SES, diet, biomarker, outcome.\n",
   "- Use networkx for visual DAGs."]}
 ],
 "metadata":{"kernelspec":{"display_name":"Python 3","language":"python","name":"python3"}},
 "nbformat":4,"nbformat_minor":5}