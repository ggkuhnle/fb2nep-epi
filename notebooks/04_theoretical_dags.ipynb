{
 "cells": [
  {
   "cell_type": "markdown",
   "metadata": {},
   "source": [
    "# 04 · Theoretical model building — DAGs\n",
    "\n",
    "> **Purpose**: formalise assumptions with Directed Acyclic Graphs (DAGs) and identify adjustment sets.\n",
    "\n",
    "> **Learning objectives**\n",
    "- Understand confounding, colliders, mediators through DAGs.\n",
    "- Draw a simple DAG for a nutrition question (e.g., red meat → cancer).\n",
    "- Propose a minimal sufficient adjustment set.\n",
    "\n",
    "---"
   ]
  },
  {
   "cell_type": "code",
   "execution_count": null,
   "id": "48726d12",
   "metadata": {},
   "outputs": [],
   "source": [
    "# Make sure the repo root (which has scripts/bootstrap.py) is on sys.path.\n",
    "import sys, os, pathlib, subprocess\n",
    "\n",
    "REPO_NAME = \"fb2nep-epi\"\n",
    "REPO_URL  = \"https://github.com/ggkuhnle/fb2nep-epi.git\"\n",
    "IN_COLAB  = \"google.colab\" in sys.modules\n",
    "\n",
    "def ensure_repo_on_path():\n",
    "    here = pathlib.Path.cwd()\n",
    "    # Walk up a few levels to find scripts/bootstrap.py\n",
    "    for p in [here, *here.parents]:\n",
    "        if (p / \"scripts\" / \"bootstrap.py\").exists():\n",
    "            os.chdir(p)                 # normalise CWD to repo root\n",
    "            sys.path.append(str(p))     # ensure imports like \"from scripts...\" work\n",
    "            return p\n",
    "    # Not found locally: if on Colab, clone then chdir\n",
    "    if IN_COLAB:\n",
    "        # clone only if missing\n",
    "        if not (pathlib.Path(\"/content\") / REPO_NAME).exists():\n",
    "            subprocess.run([\"git\", \"clone\", REPO_URL], check=False)\n",
    "        os.chdir(f\"/content/{REPO_NAME}\")\n",
    "        sys.path.append(os.getcwd())\n",
    "        return pathlib.Path.cwd()\n",
    "    # Otherwise, we can’t proceed\n",
    "    raise FileNotFoundError(\"Could not find repo root containing scripts/bootstrap.py\")\n",
    "\n",
    "repo_root = ensure_repo_on_path()\n",
    "print(\"Repo root:\", repo_root)"
   ]
  },
  {
   "cell_type": "code",
   "execution_count": null,
   "metadata": {},
   "outputs": [],
   "source": [
    "# Bootstrap: ensure repo root on path, then import init\n",
    "import sys, pathlib\n",
    "sys.path.append(str(pathlib.Path.cwd().parent))\n",
    "from scripts.bootstrap import init\n",
    "df, ctx = init()\n",
    "df.head(2)"
   ]
  },
  {
   "cell_type": "markdown",
   "metadata": {},
   "source": [
    "## 1) DAG basics (very short)\n",
    "- Nodes = variables; arrows = assumed direct causal effects.\n",
    "- **Backdoor paths** (non-causal paths from exposure to outcome) create confounding.\n",
    "- A **minimal sufficient adjustment set** blocks all backdoors without conditioning on colliders/mediators."
   ]
  },
  {
   "cell_type": "markdown",
   "metadata": {},
   "source": [
    "## 2) Example DAG: red meat → cancer\n",
    "Assume SES and smoking confound; age confounds; BMI may be on a risk pathway for cancer depending on the hypothesis."
   ]
  },
  {
   "cell_type": "code",
   "execution_count": null,
   "metadata": {},
   "outputs": [],
   "source": [
    "try:\n",
    "    import networkx as nx\n",
    "    import matplotlib.pyplot as plt\n",
    "except Exception as e:\n",
    "    raise RuntimeError(\"Install optional dependency: networkx (and matplotlib)\") from e\n",
    "\n",
    "# Build DAG (as a DiGraph for visual)\n",
    "G = nx.DiGraph()\n",
    "G.add_edges_from([\n",
    "    (\"SES\",\"red_meat\"),(\"SES\",\"Cancer\"),\n",
    "    (\"Smoking\",\"red_meat\"),(\"Smoking\",\"Cancer\"),\n",
    "    (\"Age\",\"red_meat\"),(\"Age\",\"Cancer\"),\n",
    "    (\"red_meat\",\"Cancer\")\n",
    "])\n",
    "\n",
    "pos = {\"SES\":(-1,1),\"Smoking\":(1,1),\"Age\":(0,1.4),\"red_meat\":(0,0),\"Cancer\":(0,-1)}\n",
    "plt.figure(figsize=(5.5,4.2))\n",
    "nx.draw(G, pos, with_labels=True, node_size=1600, node_color=\"#e6f2ff\", arrows=True)\n",
    "plt.title(\"DAG: confounding in red meat → cancer\")\n",
    "plt.axis('off'); plt.tight_layout(); plt.show()"
   ]
  },
  {
   "cell_type": "markdown",
   "metadata": {},
   "source": [
    "## 3) Identify a minimal sufficient adjustment set\n",
    "From the DAG above, a plausible set is `{Age, SES, Smoking}`. Avoid adjusting for **colliders** or **mediators**.\n",
    "\n",
    "**Task**: In your own words, state a minimal sufficient set for your primary analysis (you can include BMI if you argue it confounds rather than mediates in your causal story)."
   ]
  },
  {
   "cell_type": "markdown",
   "metadata": {},
   "source": [
    "## 4) Practice: DAG for salt → CVD via SBP\n",
    "Sketch a DAG with: `Salt` (exposure), `CVD` (outcome), `SBP` (mediator), `Age`, `SES`, `Smoking` (potential confounders). Decide whether `BMI` is a confounder or mediator in your story and justify."
   ]
  },
  {
   "cell_type": "code",
   "execution_count": null,
   "metadata": {},
   "outputs": [],
   "source": [
    "# OPTIONAL: draw your salt → CVD DAG\n",
    "H = nx.DiGraph()\n",
    "H.add_edges_from([\n",
    "    (\"Age\",\"Salt\"),(\"Age\",\"CVD\"),\n",
    "    (\"SES\",\"Salt\"),(\"SES\",\"CVD\"),\n",
    "    (\"Smoking\",\"CVD\"),\n",
    "    (\"Salt\",\"SBP\"),(\"SBP\",\"CVD\")\n",
    "])\n",
    "pos2 = {\"Age\":(-1,1),\"SES\":(1,1),\"Smoking\":(2,0.8),\"Salt\":(-0.3,0),\"SBP\":(0.7,-0.2),\"CVD\":(0.2,-1)}\n",
    "plt.figure(figsize=(5.8,4.2))\n",
    "nx.draw(H, pos2, with_labels=True, node_size=1600, node_color=\"#eef7e9\", arrows=True)\n",
    "plt.title(\"DAG: salt → SBP → CVD (with confounding)\")\n",
    "plt.axis('off'); plt.tight_layout(); plt.show()"
   ]
  },
  {
   "cell_type": "markdown",
   "metadata": {},
   "source": [
    "## 5) # TODO — short exercises\n",
    "1. In a markdown cell, specify your adjustment set for **red_meat → Cancer** and justify briefly.\n",
    "2. In a markdown cell, specify your adjustment set for **Salt → CVD** given the DAG above.\n",
    "3. Which variables would be **colliders** in either DAG if mistakenly adjusted for? Explain."
   ]
  },
  {
   "cell_type": "markdown",
   "metadata": {},
   "source": [
    "> ## Key takeaways\n",
    ">\n",
    "> - DAGs make assumptions explicit and guide adjustment choices.\n",
    "> - Aim to block **backdoor paths** without opening new ones via colliders/mediators.\n",
    "> - Your statistical model should follow your DAG, not the other way around."
   ]
  }
 ],
 "metadata": {
  "kernelspec": {
   "display_name": "Python 3",
   "language": "python",
   "name": "python3"
  },
  "language_info": {
   "name": "python"
  }
 },
 "nbformat": 4,
 "nbformat_minor": 5
}
