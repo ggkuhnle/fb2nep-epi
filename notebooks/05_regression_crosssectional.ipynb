{
 "cells": [
  {"cell_type":"markdown","source":["# 05 · Regression analysis (cross-sectional)\n",
   "- Linear and logistic regression.\n",
   "- Transformations (log, z-score, categorisation).\n",
   "- Build and compare alternative models."]}
 ],
 "metadata":{"kernelspec":{"display_name":"Python 3","language":"python","name":"python3"}},
 "nbformat":4,"nbformat_minor":5}