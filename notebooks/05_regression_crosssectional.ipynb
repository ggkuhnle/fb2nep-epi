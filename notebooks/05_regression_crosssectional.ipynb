{
 "cells": [
  {
   "cell_type": "markdown",
   "metadata": {},
   "source": [
    "# 05 · Regression analysis (cross-sectional)\n",
    "\n",
    "> **Purpose**: build and assess cross-sectional models: linear (SBP) and logistic (prevalent hypertension). Focus on transformations, non-linear terms, diagnostics, and clear interpretation.\n",
    "\n",
    "> **Learning objectives**\n",
    "- Fit linear regression for a continuous outcome (SBP) and interpret coefficients.\n",
    "- Fit logistic regression for a derived binary outcome (hypertension). Report ORs (95% CI).\n",
    "- Apply transformations (log, z) and non-linear terms (polynomial, splines) when justified.\n",
    "- Run basic diagnostics: residuals, QQ, influence, and multicollinearity (VIF).\n",
    "\n",
    "---"
   ]
  },
  {
   "cell_type": "code",
   "execution_count": null,
   "id": "c114968e",
   "metadata": {},
   "outputs": [],
   "source": [
    "# Make sure the repo root (which has scripts/bootstrap.py) is on sys.path.\n",
    "import sys, os, pathlib, subprocess\n",
    "\n",
    "REPO_NAME = \"fb2nep-epi\"\n",
    "REPO_URL  = \"https://github.com/ggkuhnle/fb2nep-epi.git\"\n",
    "IN_COLAB  = \"google.colab\" in sys.modules\n",
    "\n",
    "def ensure_repo_on_path():\n",
    "    here = pathlib.Path.cwd()\n",
    "    # Walk up a few levels to find scripts/bootstrap.py\n",
    "    for p in [here, *here.parents]:\n",
    "        if (p / \"scripts\" / \"bootstrap.py\").exists():\n",
    "            os.chdir(p)                 # normalise CWD to repo root\n",
    "            sys.path.append(str(p))     # ensure imports like \"from scripts...\" work\n",
    "            return p\n",
    "    # Not found locally: if on Colab, clone then chdir\n",
    "    if IN_COLAB:\n",
    "        # clone only if missing\n",
    "        if not (pathlib.Path(\"/content\") / REPO_NAME).exists():\n",
    "            subprocess.run([\"git\", \"clone\", REPO_URL], check=False)\n",
    "        os.chdir(f\"/content/{REPO_NAME}\")\n",
    "        sys.path.append(os.getcwd())\n",
    "        return pathlib.Path.cwd()\n",
    "    # Otherwise, we can’t proceed\n",
    "    raise FileNotFoundError(\"Could not find repo root containing scripts/bootstrap.py\")\n",
    "\n",
    "repo_root = ensure_repo_on_path()\n",
    "print(\"Repo root:\", repo_root)"
   ]
  },
  {
   "cell_type": "code",
   "execution_count": null,
   "metadata": {},
   "outputs": [],
   "source": [
    "# Bootstrap: ensure repo root on path, then import init\n",
    "import sys, pathlib\n",
    "sys.path.append(str(pathlib.Path.cwd().parent))\n",
    "from scripts.bootstrap import init\n",
    "df, ctx = init()\n",
    "df.head(2)"
   ]
  },
  {
   "cell_type": "markdown",
   "metadata": {},
   "source": [
    "## 1) Outcome & predictors (cross-sectional setup)\n",
    "We’ll treat **SBP** (systolic BP) as a continuous outcome for linear regression. For a binary example, define **prevalent hypertension** as SBP ≥ 140 mmHg (teaching-only threshold).\n",
    "\n",
    "**Candidate predictors**: `age`, `sex`, `BMI`, `IMD_quintile`, `SES_class`, `smoking_status`, `salt_g_d`, `fruit_veg_g_d`, `red_meat_g_d`, `physical_activity`."
   ]
  },
  {
   "cell_type": "code",
   "execution_count": null,
   "metadata": {},
   "outputs": [],
   "source": [
    "import numpy as np, pandas as pd\n",
    "\n",
    "work = df[['SBP','age','sex','BMI','IMD_quintile','SES_class','smoking_status','salt_g_d','fruit_veg_g_d','red_meat_g_d','physical_activity']].copy()\n",
    "work = work.dropna()\n",
    "work['HT_prev'] = (work['SBP'] >= 140).astype(int)\n",
    "work.head(3), work.shape"
   ]
  },
  {
   "cell_type": "markdown",
   "metadata": {},
   "source": [
    "## 2) Linear regression — SBP as outcome\n",
    "Start simple (salt only), then build up with plausible confounders and compare models by fit and interpretability."
   ]
  },
  {
   "cell_type": "code",
   "execution_count": null,
   "metadata": {},
   "outputs": [],
   "source": [
    "import statsmodels.api as sm\n",
    "from patsy import dmatrices\n",
    "\n",
    "# Unadjusted: SBP ~ salt_g_d\n",
    "y_u, X_u = dmatrices('SBP ~ salt_g_d', data=work, return_type='dataframe')\n",
    "fit_u = sm.OLS(y_u, X_u).fit()\n",
    "fit_u.summary().tables[1]"
   ]
  },
  {
   "cell_type": "code",
   "execution_count": null,
   "metadata": {},
   "outputs": [],
   "source": [
    "# Adjusted: SBP ~ salt + age + sex + BMI + IMD_quintile + SES_class + smoking + physical_activity\n",
    "# C() wraps categoricals; continuous left as-is (for now)\n",
    "formula_a = 'SBP ~ salt_g_d + age + BMI + C(sex) + C(IMD_quintile) + C(SES_class) + C(smoking_status) + C(physical_activity)'\n",
    "y_a, X_a = dmatrices(formula_a, data=work, return_type='dataframe')\n",
    "fit_a = sm.OLS(y_a, X_a).fit()\n",
    "fit_a.summary().tables[1]"
   ]
  },
  {
   "cell_type": "markdown",
   "metadata": {},
   "source": [
    "### Diagnostics — residual plots & QQ\n",
    "We’re aiming for *adequate* teaching diagnostics: residuals vs fitted, and normal Q–Q. Look for patterning (non-linearity) or heavy tails (outliers/influence)."
   ]
  },
  {
   "cell_type": "code",
   "execution_count": null,
   "metadata": {},
   "outputs": [],
   "source": [
    "import matplotlib.pyplot as plt\n",
    "resid = fit_a.resid.values.ravel()\n",
    "fitted = fit_a.fittedvalues.values.ravel()\n",
    "\n",
    "plt.figure(figsize=(5.2,4)); plt.scatter(fitted, resid, s=8, alpha=0.6)\n",
    "plt.axhline(0, ls='--'); plt.xlabel('Fitted'); plt.ylabel('Residual'); plt.title('Residuals vs Fitted'); plt.tight_layout(); plt.show()\n",
    "\n",
    "sm.qqplot(resid, line='45'); plt.title('Normal Q–Q (residuals)'); plt.tight_layout(); plt.show()"
   ]
  },
  {
   "cell_type": "markdown",
   "metadata": {},
   "source": [
    "### Multicollinearity — quick VIF check\n",
    "Rule of thumb: VIF > ~5–10 suggests strong collinearity (teaching heuristic, not law)."
   ]
  },
  {
   "cell_type": "code",
   "execution_count": null,
   "metadata": {},
   "outputs": [],
   "source": [
    "from statsmodels.stats.outliers_influence import variance_inflation_factor\n",
    "import numpy as np\n",
    "\n",
    "# Build a numeric design matrix (expand categoricals as dummies without intercept)\n",
    "XA = pd.get_dummies(work[['salt_g_d','age','BMI','sex','IMD_quintile','SES_class','smoking_status','physical_activity']], drop_first=True)\n",
    "XA = sm.add_constant(XA, has_constant='add')\n",
    "vif = pd.Series([variance_inflation_factor(XA.values, i) for i in range(XA.shape[1])], index=XA.columns)\n",
    "vif.round(2).sort_values(ascending=False).head(12)"
   ]
  },
  {
   "cell_type": "markdown",
   "metadata": {},
   "source": [
    "## 3) Transformations & non-linear terms\n",
    "- Skewed predictors (e.g., salt) may behave better on `log1p` scale.\n",
    "- Consider **polynomial** terms (e.g., BMI²) or **splines** for flexible curvature.\n",
    "\n",
    "_Teaching note_: do this when diagnostics or prior knowledge suggest non-linearity — not by default."
   ]
  },
  {
   "cell_type": "code",
   "execution_count": null,
   "metadata": {},
   "outputs": [],
   "source": [
    "work2 = work.copy()\n",
    "work2['salt_log1p'] = np.log1p(work2['salt_g_d'])\n",
    "work2['BMI2'] = work2['BMI']**2\n",
    "\n",
    "formula_nl = 'SBP ~ salt_log1p + age + BMI + BMI2 + C(sex) + C(IMD_quintile) + C(SES_class) + C(smoking_status) + C(physical_activity)'\n",
    "y_nl, X_nl = dmatrices(formula_nl, data=work2, return_type='dataframe')\n",
    "fit_nl = sm.OLS(y_nl, X_nl).fit()\n",
    "fit_nl.summary().tables[1]"
   ]
  },
  {
   "cell_type": "markdown",
   "metadata": {},
   "source": [
    "_Optional_: cubic B-splines for age (requires `patsy.bs`)."
   ]
  },
  {
   "cell_type": "code",
   "execution_count": null,
   "metadata": {},
   "outputs": [],
   "source": [
    "from patsy import bs\n",
    "formula_s = 'SBP ~ salt_log1p + bs(age, df=4) + BMI + C(sex) + C(IMD_quintile) + C(SES_class) + C(smoking_status) + C(physical_activity)'\n",
    "y_s, X_s = dmatrices(formula_s, data=work2, return_type='dataframe')\n",
    "fit_s = sm.OLS(y_s, X_s).fit()\n",
    "print('Adj R^2 (linear age):', round(fit_nl.rsquared_adj,4))\n",
    "print('Adj R^2 (spline age):', round(fit_s.rsquared_adj,4))"
   ]
  },
  {
   "cell_type": "markdown",
   "metadata": {},
   "source": [
    "## 4) Logistic regression — prevalent hypertension (teaching example)\n",
    "Define `HT_prev = 1` if SBP ≥ 140 mmHg. Fit unadjusted and adjusted models. Report odds ratios (OR) with 95% CIs. _Reminder_: cross-sectional **prevalent** hypertension mixes incidence and duration; this is a didactic example."
   ]
  },
  {
   "cell_type": "code",
   "execution_count": null,
   "metadata": {},
   "outputs": [],
   "source": [
    "import statsmodels.api as sm\n",
    "from patsy import dmatrices\n",
    "\n",
    "log_u_y, log_u_X = dmatrices('HT_prev ~ salt_log1p', data=work2, return_type='dataframe')\n",
    "log_u = sm.Logit(log_u_y, log_u_X).fit(disp=False)\n",
    "\n",
    "def cat_term(df_, v):\n",
    "    return f\"C({v})\" if (df_[v].dtype=='object' or str(df_[v].dtype).startswith('category')) else v\n",
    "\n",
    "adj_terms = [\n",
    "    'salt_log1p','age','BMI',\n",
    "    cat_term(work2,'sex'), cat_term(work2,'IMD_quintile'), cat_term(work2,'SES_class'),\n",
    "    cat_term(work2,'smoking_status'), cat_term(work2,'physical_activity')\n",
    "]\n",
    "formula_log_a = 'HT_prev ~ ' + ' + '.join(adj_terms)\n",
    "log_a_y, log_a_X = dmatrices(formula_log_a, data=work2, return_type='dataframe')\n",
    "log_a = sm.Logit(log_a_y, log_a_X).fit(disp=False)\n",
    "\n",
    "import numpy as np\n",
    "def tidy_or(fit):\n",
    "    OR = np.exp(fit.params).rename('OR')\n",
    "    CI = np.exp(fit.conf_int()).rename(columns={0:'2.5%',1:'97.5%'})\n",
    "    return pd.concat([OR,CI], axis=1).round(3)\n",
    "\n",
    "tidy_or(log_u), tidy_or(log_a)"
   ]
  },
  {
   "cell_type": "markdown",
   "metadata": {},
   "source": [
    "### Brief interpretation guide\n",
    "- **Linear model**: coefficient on `salt_log1p` ≈ change in SBP (mmHg) per 1-unit change in log(1+salt g/day), holding others constant.\n",
    "- **Logistic model**: OR for `salt_log1p` — multiplicative change in odds of prevalent hypertension per 1-unit increase in log(1+salt), adjusted for covariates.\n",
    "- Non-linear terms (e.g., `BMI2`, `bs(age)`) let the effect vary by level; interpret via **predicted margins** not just coefficients."
   ]
  },
  {
   "cell_type": "markdown",
   "metadata": {},
   "source": [
    "## 5) # TODO — hands-on tasks\n",
    "1. **Model comparison**: Compare `fit_a`, `fit_nl`, and `fit_s` using adjusted R² and residual plots. Which balances fit and simplicity?\n",
    "2. **Alternative exposure**: Swap `salt_log1p` for `red_meat_g_d` (log1p as needed). Refit linear SBP model and logistic HT model; interpret changes.\n",
    "3. **Predicted margins (bonus)**: Compute predicted SBP at the 10th, 50th, 90th percentiles of `salt_g_d` holding other vars at typical values. Summarise in one sentence.\n",
    "4. **Collinearity reflection**: Which predictors show higher VIF? Suggest a remedy (e.g., remove, combine, or centre variables)."
   ]
  },
  {
   "cell_type": "code",
   "execution_count": null,
   "metadata": {},
   "outputs": [],
   "source": [
    "# (3) Predicted margins demo\n",
    "q = work2['salt_g_d'].quantile([0.1,0.5,0.9]).rename({0.1:'p10',0.5:'p50',0.9:'p90'})\n",
    "new = work2.median(numeric_only=True).to_frame().T\n",
    "new = new.assign(salt_g_d=[q['p10'], q['p50'], q['p90']])\n",
    "new['salt_log1p'] = np.log1p(new['salt_g_d'])\n",
    "# Keep categoricals at mode\n",
    "for v in ['sex','IMD_quintile','SES_class','smoking_status','physical_activity']:\n",
    "    new[v] = work2[v].mode().iloc[0]\n",
    "_, Xp = dmatrices(formula_nl, data=new, return_type='dataframe')\n",
    "pred = fit_nl.predict(Xp)\n",
    "pd.DataFrame({'salt_g_d': new['salt_g_d'].values, 'pred_SBP': pred.values})"
   ]
  },
  {
   "cell_type": "markdown",
   "metadata": {},
   "source": [
    "> ## Key takeaways\n",
    ">\n",
    "> - Let **design and diagnostics** motivate transformation or non-linearity — don’t add complexity by default.\n",
    "> - Report effects clearly: units for linear; **OR (95% CI)** for logistic.\n",
    "> - Check residuals and **VIF**; reflect on practical remedies for violations.\n",
    "> - Cross-sectional models describe associations; causal interpretation demands a DAG and longitudinal design (next notebook)."
   ]
  }
 ],
 "metadata": {
  "kernelspec": {
   "display_name": "Python 3",
   "language": "python",
   "name": "python3"
  },
  "language_info": {
   "name": "python"
  }
 },
 "nbformat": 4,
 "nbformat_minor": 5
}
