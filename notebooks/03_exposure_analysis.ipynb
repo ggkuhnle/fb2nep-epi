{
 "cells": [
  {"cell_type": "markdown", "source": ["# 03 · Exposure analysis — intake vs biomarker\n",
   "- Explore distributions of dietary exposures (fruit/veg, red meat, salt, alcohol).\n",
   "- Compare intake measures with biomarkers (vitamin C, urinary sodium).\n",
   "- Visualise correlations, scatterplots, regression lines."]}
 ],
 "metadata": {"kernelspec": {"display_name": "Python 3","language":"python","name":"python3"}},
 "nbformat":4,"nbformat_minor":5}