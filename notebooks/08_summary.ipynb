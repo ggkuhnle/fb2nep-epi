{
 "cells": [
  {"cell_type":"markdown","source":["# 08 · Summary and next steps\n",
   "- Recap full epidemiology workflow.\n",
   "- Link to assignment.\n",
   "- Reflection: limits of nutritional epidemiology."]}
 ],
 "metadata":{"kernelspec":{"display_name":"Python 3","language":"python","name":"python3"}},
 "nbformat":4,"nbformat_minor":5}