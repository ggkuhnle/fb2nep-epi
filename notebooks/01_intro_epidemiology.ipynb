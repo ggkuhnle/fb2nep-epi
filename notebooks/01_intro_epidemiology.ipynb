{
 "cells": [
  {
   "cell_type": "markdown",
   "id": "181d4d14",
   "metadata": {},
   "source": [
    "# 01 · Introduction to the dataset (light touch)\n",
    "\n",
    "> **Purpose**: load the synthetic cohort (N≈25k), orient yourself, and do minimal integrity checks.\n",
    "No modelling yet — just get a feel for the data.\n",
    "\n",
    "> **Learning objectives**\n",
    "- Load the dataset reproducibly (Colab/local) and locate key files.\n",
    "- Inspect variables, units, and basic distributions.\n",
    "- Run a few lightweight integrity checks (flags ↔ dates; plausible ranges; monotone signals).\n",
    "\n",
    "---"
   ]
  },
  {
   "cell_type": "code",
   "execution_count": null,
   "id": "39aace35",
   "metadata": {},
   "outputs": [],
   "source": [
    "# Bootstrap: ensure repo on path, then load df via scripts/bootstrap.py\n",
    "import sys, pathlib\n",
    "# Add repo root (parent of notebooks/) to sys.path — works locally and in Colab\n",
    "sys.path.append(str(pathlib.Path.cwd().parent))\n",
    "from scripts.bootstrap import init\n",
    "df, ctx = init()\n",
    "df.head(3)"
   ]
  },
  {
   "cell_type": "markdown",
   "id": "18bca605",
   "metadata": {},
   "source": [
    "## What’s in here?\n",
    "- **metadata/data_dictionary.csv** — variable types, units, coding.\n",
    "- **metadata/provenance.md** — how the data were generated (assumptions, seed=11088).\n",
    "- **scripts/generate_dataset.py** — transparent generator (re-run if needed).\n",
    "- **scripts/validate_dataset.py** — basic checks (ranges, monotone relations, incidence)."
   ]
  },
  {
   "cell_type": "code",
   "execution_count": null,
   "id": "9f3bd011",
   "metadata": {},
   "outputs": [],
   "source": [
    "df.shape, sorted(df.columns)[:12], sorted(df.columns)[12:24]"
   ]
  },
  {
   "cell_type": "markdown",
   "id": "76bb7a80",
   "metadata": {},
   "source": [
    "## Quick summaries (numeric & categorical)"
   ]
  },
  {
   "cell_type": "code",
   "execution_count": null,
   "id": "db9f3309",
   "metadata": {},
   "outputs": [],
   "source": [
    "num_desc = df.select_dtypes(include=[\"float64\",\"int64\"]).describe().T.round(2)\n",
    "cat_desc = df.select_dtypes(include=[\"object\",\"category\"]).describe().T\n",
    "num_desc.head(12), cat_desc.head(12)"
   ]
  },
  {
   "cell_type": "markdown",
   "id": "1ef57a66",
   "metadata": {},
   "source": [
    "## Distributions: age, BMI, SBP (orientation, not inference)"
   ]
  },
  {
   "cell_type": "code",
   "execution_count": null,
   "id": "c393f23a",
   "metadata": {},
   "outputs": [],
   "source": [
    "import matplotlib.pyplot as plt\n",
    "for col in [\"age\",\"BMI\",\"SBP\"]:\n",
    "    if col in df:\n",
    "        x = df[col].dropna()\n",
    "        plt.figure(); plt.hist(x, bins=40, alpha=0.9)\n",
    "        plt.xlabel(col); plt.ylabel(\"count\"); plt.title(col)\n",
    "        plt.show()"
   ]
  },
  {
   "cell_type": "markdown",
   "id": "24b77e65",
   "metadata": {},
   "source": [
    "## Lightweight integrity checks\n",
    "These are deliberately simple — just enough to catch glaring problems."
   ]
  },
  {
   "cell_type": "code",
   "execution_count": null,
   "id": "f1c42fb7",
   "metadata": {},
   "outputs": [],
   "source": [
    "# Cohort age range\n",
    "assert df['age'].min() >= 40, \"Cohort should be age ≥ 40\"\n",
    "\n",
    "# Required columns exist\n",
    "required = {\n",
    "    'id','baseline_date','age','sex','BMI','SBP','IMD_quintile','SES_class','smoking_status',\n",
    "    'fruit_veg_g_d','red_meat_g_d','salt_g_d','energy_kcal',\n",
    "    'plasma_vitC_umol_L','urinary_sodium_mmol_L',\n",
    "    'CVD_incident','CVD_date','Cancer_incident','Cancer_date'\n",
    "}\n",
    "missing = required - set(df.columns)\n",
    "assert not missing, f\"Missing columns: {missing}\"\n",
    "\n",
    "# Binary incident flags are 0/1 and match dates\n",
    "for flag, date in [(\"CVD_incident\",\"CVD_date\"),(\"Cancer_incident\",\"Cancer_date\")]:\n",
    "    vals = set(df[flag].dropna().unique().tolist())\n",
    "    assert vals.issubset({0,1}), f\"{flag} should be 0/1\"\n",
    "    f = df[flag].astype(int); d = df[date].fillna(\"\")\n",
    "    assert ((f==1) <= (d!=\"\")).all(), f\"{date}: incident=1 rows must have a date\"\n",
    "print(\"Integrity checks passed ✅\")"
   ]
  },
  {
   "cell_type": "markdown",
   "id": "a25a532f",
   "metadata": {},
   "source": [
    "## Construct-validity spot checks (signal amidst noise)\n",
    "- Fruit & veg → plasma vitamin C should be **monotone increasing** on average.\n",
    "- Salt intake → urinary sodium should be **monotone increasing** on average."
   ]
  },
  {
   "cell_type": "code",
   "execution_count": null,
   "id": "e86efd2a",
   "metadata": {},
   "outputs": [],
   "source": [
    "import pandas as pd, numpy as np\n",
    "q_fv = pd.qcut(df['fruit_veg_g_d'], 5, duplicates='drop')\n",
    "m_vitc = df.groupby(q_fv)['plasma_vitC_umol_L'].mean().round(2)\n",
    "q_salt = pd.qcut(df['salt_g_d'], 5, duplicates='drop')\n",
    "m_urna = df.groupby(q_salt)['urinary_sodium_mmol_L'].mean().round(2)\n",
    "display(m_vitc, m_urna)\n",
    "assert m_vitc.is_monotonic_increasing, \"Vitamin C means should increase across fruit/veg quintiles\"\n",
    "assert m_urna.is_monotonic_increasing, \"Urinary sodium means should increase across salt quintiles\""
   ]
  },
  {
   "cell_type": "markdown",
   "id": "90bde504",
   "metadata": {},
   "source": [
    "## Very crude incidences (orientation only)\n",
    "We’ll revisit definitions later; for now just confirm ballpark magnitudes."
   ]
  },
  {
   "cell_type": "code",
   "execution_count": null,
   "id": "ab3455cb",
   "metadata": {},
   "outputs": [],
   "source": [
    "p_cvd = df['CVD_incident'].mean().round(4)\n",
    "p_cancer = df['Cancer_incident'].mean().round(4)\n",
    "print({\"CVD\": p_cvd, \"Cancer\": p_cancer})\n",
    "assert 0.06 <= p_cvd <= 0.20 and 0.06 <= p_cancer <= 0.20, \"Incidences should be plausible in this synthetic cohort\""
   ]
  },
  {
   "cell_type": "markdown",
   "id": "f023f2e2",
   "metadata": {},
   "source": [
    "> ## Key takeaways\n",
    ">\n",
    "> - You can reliably **load** the dataset in Colab or locally using the bootstrap.\n",
    "> - Run a handful of **simple checks** up front (ranges, flags↔dates, monotone relations).\n",
    "> - Keep today’s view **strictly descriptive** — modelling begins later.\n",
    ">\n",
    "> **Next:** produce a defensible **description of the population** (Table 1) and explore **missing data**."
   ]
  }
 ],
 "metadata": {
  "kernelspec": {
   "display_name": "Python 3",
   "language": "python",
   "name": "python3"
  },
  "language_info": {
   "name": "python"
  }
 },
 "nbformat": 4,
 "nbformat_minor": 5
}
