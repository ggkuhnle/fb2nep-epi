{
 "cells": [
  {
   "cell_type": "markdown",
   "id": "c142c520",
   "metadata": {},
   "source": [
    "# 01 · Introduction to Nutritional Epidemiology\n",
    "\n",
    "> **Learning objectives**\n",
    "- Define epidemiology and its scope within nutrition.\n",
    "- Contrast landmark effects (e.g., smoking & lung cancer) with subtler nutrition effects.\n",
    "- Recognise nutrition-specific challenges: complexity, misreporting, long latency.\n",
    "- Load and inspect the FB2NEP synthetic cohort (N≈25k) and perform simple checks.\n",
    "\n",
    "---"
   ]
  },
  {
   "cell_type": "code",
   "execution_count": null,
   "id": "2e68d30d",
   "metadata": {},
   "outputs": [],
   "source": [
    "# one-time per runtime\n",
    "!git clone https://github.com/ggkuhnle/fb2nep-epi.git\n",
    "%cd fb2nep-epi\n",
    "\n",
    "from scripts.bootstrap import init\n",
    "df, ctx = init()\n",
    "df.head()\n",
    "\n",
    "print(df.shape, \"— dataset ready\")"
   ]
  },
  {
   "cell_type": "markdown",
   "id": "673cb077",
   "metadata": {},
   "source": [
    "## What is epidemiology?\n",
    "Epidemiology studies the **distribution** and **determinants** of health-related states in populations, and applies this to control health problems.\n",
    "\n",
    "In nutrition, exposures are complex (patterns, foods, nutrients), often **misreported**, and effects can be **modest** and **slow to emerge** compared with hazards like active smoking. This makes design, measurement, and interpretation particularly demanding."
   ]
  },
  {
   "cell_type": "markdown",
   "id": "509e90a0",
   "metadata": {},
   "source": [
    "## First look at the dataset"
   ]
  },
  {
   "cell_type": "code",
   "execution_count": null,
   "id": "03a4efa0",
   "metadata": {},
   "outputs": [],
   "source": [
    "df.head(3)"
   ]
  },
  {
   "cell_type": "code",
   "execution_count": null,
   "id": "bff41bba",
   "metadata": {},
   "outputs": [],
   "source": [
    "df.shape, sorted(df.columns)[:12], sorted(df.columns)[12:24]"
   ]
  },
  {
   "cell_type": "code",
   "execution_count": null,
   "id": "d13654d9",
   "metadata": {},
   "outputs": [],
   "source": [
    "# Summary (numeric + selected categoricals)\n",
    "desc_num = df.select_dtypes(include=[\"float64\",\"int64\"]).describe().T\n",
    "desc_cat = df.select_dtypes(include=[\"object\",\"category\"]).describe().T\n",
    "desc_num.head(10), desc_cat.head(10)"
   ]
  },
  {
   "cell_type": "markdown",
   "id": "932b2e6b",
   "metadata": {},
   "source": [
    "### Sanity checks (lightweight)\n",
    "Quick, defensible checks that catch obvious mistakes in a synthetic cohort."
   ]
  },
  {
   "cell_type": "code",
   "execution_count": null,
   "id": "df7e7970",
   "metadata": {},
   "outputs": [],
   "source": [
    "# Age range & cohort minimum\n",
    "assert df['age'].min() >= 40, \"Cohort should be age ≥ 40\"\n",
    "# Core columns exist\n",
    "required = {'id','age','sex','BMI','IMD_quintile','smoking_status','fruit_veg_g_d','red_meat_g_d','salt_g_d','plasma_vitC_umol_L','urinary_sodium_mmol_L','CVD_incident','Cancer_incident'}\n",
    "missing = required - set(df.columns)\n",
    "assert not missing, f\"Missing columns: {missing}\"\n",
    "# Incident flags are 0/1\n",
    "for f in ['CVD_incident','Cancer_incident']:\n",
    "    vals = set(df[f].dropna().unique().tolist())\n",
    "    assert vals.issubset({0,1}), f\"{f} should be binary 0/1\"\n",
    "print(\"Basic checks passed ✅\")"
   ]
  },
  {
   "cell_type": "markdown",
   "id": "32405bb8",
   "metadata": {},
   "source": [
    "## Measurement error: self-report vs biomarkers\n",
    "A simple **construct-validity** signal should be visible: higher fruit & veg intake → higher plasma vitamin C. The relation is noisy (within-person variation, assay error, reporting bias), but **monotonic on average**."
   ]
  },
  {
   "cell_type": "code",
   "execution_count": null,
   "id": "74cf58a3",
   "metadata": {},
   "outputs": [],
   "source": [
    "import pandas as pd\n",
    "# Quintiles of fruit & veg and mean vitamin C per quintile\n",
    "q = pd.qcut(df['fruit_veg_g_d'], 5, duplicates='drop')\n",
    "res = df.groupby(q)['plasma_vitC_umol_L'].agg(['mean','std','count']).round(2)\n",
    "display(res)\n",
    "assert res['mean'].is_monotonic_increasing, \"Mean vit C should increase across fruit/veg quintiles\"\n",
    "print(\"Construct-validity check passed ✅\")"
   ]
  },
  {
   "cell_type": "markdown",
   "id": "94dcefcf",
   "metadata": {},
   "source": [
    "## Visual cue: intake vs biomarker (scatter + fitted line)"
   ]
  },
  {
   "cell_type": "code",
   "execution_count": null,
   "id": "b17ea7e9",
   "metadata": {},
   "outputs": [],
   "source": [
    "import numpy as np, matplotlib.pyplot as plt\n",
    "xy = df[['fruit_veg_g_d','plasma_vitC_umol_L']].dropna()\n",
    "plt.figure(figsize=(5.2,4))\n",
    "plt.scatter(xy['fruit_veg_g_d'], xy['plasma_vitC_umol_L'], s=10, alpha=0.6)\n",
    "coef = np.polyfit(xy['fruit_veg_g_d'], xy['plasma_vitC_umol_L'], 1)\n",
    "grid = np.linspace(0, xy['fruit_veg_g_d'].max(), 120)\n",
    "plt.plot(grid, coef[0]*grid + coef[1])\n",
    "plt.xlabel('Fruit & veg (g/day)')\n",
    "plt.ylabel('Plasma vitamin C (µmol/L)')\n",
    "plt.title('Signal & noise in exposure measurement')\n",
    "plt.tight_layout(); plt.show()"
   ]
  },
  {
   "cell_type": "markdown",
   "id": "66f81e45",
   "metadata": {},
   "source": [
    "## Nutrition-specific challenges (discussion)\n",
    "- **Complex exposures**: foods/nutrients cluster; energy intake scales many variables.\n",
    "- **Measurement error**: self-report misreporting (differential/non-differential); biomarkers imperfect.\n",
    "- **Latency & modest effects**: small relative risks; long follow-up → confounding risk.\n",
    "- **Confounding**: lifestyle and socioeconomic variables correlate with diet and outcomes.\n",
    "\n",
    "_Prompt:_ Which of these would most bias an association between **red meat** and **cancer** upwards? Downwards? Why?"
   ]
  },
  {
   "cell_type": "markdown",
   "id": "bf24921b",
   "metadata": {},
   "source": [
    "## # TODO · Quick computations\n",
    "Answer directly in code/comments; asserts give gentle feedback."
   ]
  },
  {
   "cell_type": "code",
   "execution_count": null,
   "id": "f3fa0c69",
   "metadata": {},
   "outputs": [],
   "source": [
    "# a) Crude incidences (expect around 10–12%)\n",
    "p_cvd = df['CVD_incident'].mean()\n",
    "p_cancer = df['Cancer_incident'].mean()\n",
    "print({\"CVD\": round(p_cvd,4), \"Cancer\": round(p_cancer,4)})\n",
    "assert 0.06 <= p_cvd <= 0.20, \"CVD incidence should be plausible\"\n",
    "assert 0.06 <= p_cancer <= 0.20, \"Cancer incidence should be plausible\""
   ]
  },
  {
   "cell_type": "code",
   "execution_count": null,
   "id": "7ed06c90",
   "metadata": {},
   "outputs": [],
   "source": [
    "# b) Salt intake vs urinary sodium — expect positive correlation\n",
    "sub = df[['salt_g_d','urinary_sodium_mmol_L']].dropna()\n",
    "r = sub.corr().iloc[0,1]\n",
    "print(\"r(salt, urinary Na) =\", round(r,3))\n",
    "assert r > 0.25, \"Expect a positive association between salt and urinary sodium\""
   ]
  },
  {
   "cell_type": "code",
   "execution_count": null,
   "id": "4e07965c",
   "metadata": {},
   "outputs": [],
   "source": [
    "# c) Event-date integrity: if incident==1 there must be a date\n",
    "for flag, date in [(\"CVD_incident\",\"CVD_date\"),(\"Cancer_incident\",\"Cancer_date\")]:\n",
    "    f = df[flag].astype(int)\n",
    "    d = df[date].fillna(\"\")\n",
    "    assert ((f==1) <= (d!=\"\")).all(), f\"{date}: some incident=1 rows missing a date\"\n",
    "print(\"Event-date integrity checks passed ✅\")"
   ]
  },
  {
   "cell_type": "markdown",
   "id": "d9838c7e",
   "metadata": {},
   "source": [
    "## Short exercise (reflective)\n",
    "In **3–5 sentences**, explain why strong biological plausibility (e.g., salt → BP) does not automatically translate to large, decisive observational associations for **hard outcomes** (e.g., CVD events). Consider measurement error, latency, confounding, and competing risks.\n",
    "\n",
    "_Write your answer in a new Markdown cell below._"
   ]
  },
  {
   "cell_type": "markdown",
   "id": "4ab5ef03",
   "metadata": {},
   "source": [
    "### Checkpoint\n",
    "- Note any odd ranges or surprising values you want to revisit.\n",
    "- Identify two variables you expect to adjust for in a **red meat → cancer** model.\n",
    "- Next session: we formalise study designs and exposure/outcome assessment."
   ]
  }
 ],
 "metadata": {
  "colab": {
   "provenance": []
  },
  "kernelspec": {
   "display_name": "Python 3",
   "language": "python",
   "name": "python3"
  },
  "language_info": {
   "name": "python"
  }
 },
 "nbformat": 4,
 "nbformat_minor": 5
}
