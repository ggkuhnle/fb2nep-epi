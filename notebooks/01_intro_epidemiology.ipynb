{
 "cells": [
  {
   "cell_type": "markdown",
   "metadata": {},
   "source": [
    "# 01 · Introduction to Nutritional Epidemiology\n",
    "\n",
    "> **Learning objectives**\n",
    "- Define epidemiology in the context of nutrition.\n",
    "- Recognise challenges: confounding, measurement error, missingness.\n",
    "- Load and inspect the FB2NEP synthetic cohort (N≈25k).\n",
    "---"
   ]
  },
  {
   "cell_type": "code",
   "execution_count": null,
   "id": "3ef43b3c",
   "metadata": {},
   "outputs": [],
   "source": [
    "%run ../notebooks/_bootstrap.py\n",
    "df.head()"
   ]
  },
  {
   "cell_type": "code",
   "execution_count": null,
   "id": "4078a3b8",
   "metadata": {},
   "outputs": [],
   "source": [
    "# Ensure dataset exists (works in Colab and locally)\n",
    "import os, subprocess, shlex\n",
    "if not os.path.exists(PATH):\n",
    "    print(\"Dataset missing — generating via scripts/generate_dataset.py ...\")\n",
    "    ret = subprocess.run(shlex.split(\"python scripts/generate_dataset.py\"))\n",
    "    if ret.returncode != 0:\n",
    "        raise SystemExit(\"Generation failed. Check scripts/generate_dataset.py output.\")\n",
    "df = pd.read_csv(PATH)\n",
    "df.head(3)"
   ]
  },
  {
   "cell_type": "markdown",
   "id": "01193978",
   "metadata": {},
   "source": [
    "## First look"
   ]
  },
  {
   "cell_type": "code",
   "execution_count": null,
   "id": "6dd7166f",
   "metadata": {},
   "outputs": [],
   "source": [
    "%run ../notebooks/_bootstrap.py\n",
    "# now df is loaded; CSV_REL/REPO_ROOT/IN_COLAB are available\n",
    "df.head()"
   ]
  },
  {
   "cell_type": "code",
   "execution_count": null,
   "metadata": {},
   "outputs": [],
   "source": [
    "df.describe(include='all', datetime_is_numeric=True)"
   ]
  },
  {
   "cell_type": "markdown",
   "metadata": {},
   "source": [
    "### Measurement error (discussion)\n",
    "- Self-reported diet vs biomarkers (e.g. fruit/veg vs plasma vitamin C).\n",
    "- Day-to-day variation and systematic bias."
   ]
  },
  {
   "cell_type": "markdown",
   "metadata": {},
   "source": [
    "### # TODO · Quintiles of fruit/veg vs plasma vitamin C"
   ]
  },
  {
   "cell_type": "code",
   "execution_count": null,
   "metadata": {},
   "outputs": [],
   "source": [
    "# Compute mean vitamin C by quintiles of fruit_veg_g_d and assert monotonicity.\n",
    "q = pd.qcut(df['fruit_veg_g_d'], 5, duplicates='drop')\n",
    "res = df.groupby(q)['plasma_vitC_umol_L'].agg(['mean','std','count']).round(2)\n",
    "# Expect monotone increase in mean vit C\n",
    "assert res['mean'].is_monotonic_increasing, \"Mean vit C should increase across fruit/veg quintiles\"\n",
    "res"
   ]
  },
  {
   "cell_type": "markdown",
   "metadata": {},
   "source": [
    "### Checkpoint\n",
    "- Note any odd ranges or surprising values you want to revisit later."
   ]
  }
 ],
 "metadata": {
  "colab": {
   "provenance": []
  },
  "kernelspec": {
   "display_name": "Python 3",
   "language": "python",
   "name": "python3"
  },
  "language_info": {
   "name": "python"
  }
 },
 "nbformat": 4,
 "nbformat_minor": 5
}
