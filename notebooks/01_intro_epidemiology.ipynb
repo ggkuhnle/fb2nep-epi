{
 "cells": [
  {
   "cell_type": "markdown",
   "metadata": {},
   "source": [
    "# 01 · Introduction to Nutritional Epidemiology\n",
    "\n",
    "> **Learning objectives**\n",
    "- Define epidemiology in the context of nutrition.\n",
    "- Recognise challenges: confounding, measurement error, missingness.\n",
    "- Load and inspect the FB2NEP synthetic cohort (N≈25k).\n",
    "---"
   ]
  },
  {
   "cell_type": "code",
   "execution_count": 4,
   "id": "3ef43b3c",
   "metadata": {},
   "outputs": [
    {
     "ename": "Exception",
     "evalue": "File `'../notebooks/_bootstrap.py'` not found.",
     "output_type": "error",
     "traceback": [
      "\u001b[0;31m---------------------------------------------------------------------------\u001b[0m\n",
      "\u001b[0;31mOSError\u001b[0m                                   Traceback (most recent call last)\n",
      "File \u001b[0;32m/Applications/Positron.app/Contents/Resources/app/extensions/positron-python/python_files/lib/ipykernel/py3/IPython/core/magics/execution.py:716\u001b[0m, in \u001b[0;36mExecutionMagics.run\u001b[0;34m(self, parameter_s, runner, file_finder)\u001b[0m\n",
      "\u001b[1;32m    715\u001b[0m     fpath \u001b[38;5;241m=\u001b[39m arg_lst[\u001b[38;5;241m0\u001b[39m]\n",
      "\u001b[0;32m--> 716\u001b[0m     filename \u001b[38;5;241m=\u001b[39m \u001b[43mfile_finder\u001b[49m\u001b[43m(\u001b[49m\u001b[43mfpath\u001b[49m\u001b[43m)\u001b[49m\n",
      "\u001b[1;32m    717\u001b[0m \u001b[38;5;28;01mexcept\u001b[39;00m \u001b[38;5;167;01mIndexError\u001b[39;00m \u001b[38;5;28;01mas\u001b[39;00m e:\n",
      "\n",
      "File \u001b[0;32m/Applications/Positron.app/Contents/Resources/app/extensions/positron-python/python_files/lib/ipykernel/py3/IPython/utils/path.py:90\u001b[0m, in \u001b[0;36mget_py_filename\u001b[0;34m(name)\u001b[0m\n",
      "\u001b[1;32m     89\u001b[0m         \u001b[38;5;28;01mreturn\u001b[39;00m py_name\n",
      "\u001b[0;32m---> 90\u001b[0m \u001b[38;5;28;01mraise\u001b[39;00m \u001b[38;5;167;01mIOError\u001b[39;00m(\u001b[38;5;124m\"\u001b[39m\u001b[38;5;124mFile `\u001b[39m\u001b[38;5;132;01m%r\u001b[39;00m\u001b[38;5;124m` not found.\u001b[39m\u001b[38;5;124m\"\u001b[39m \u001b[38;5;241m%\u001b[39m name)\n",
      "\n",
      "\u001b[0;31mOSError\u001b[0m: File `'../notebooks/_bootstrap.py'` not found.\n",
      "\n",
      "The above exception was the direct cause of the following exception:\n",
      "\n",
      "\u001b[0;31mException\u001b[0m                                 Traceback (most recent call last)\n",
      "Cell \u001b[0;32mIn[4], line 1\u001b[0m\n",
      "\u001b[0;32m----> 1\u001b[0m \u001b[43mget_ipython\u001b[49m\u001b[43m(\u001b[49m\u001b[43m)\u001b[49m\u001b[38;5;241;43m.\u001b[39;49m\u001b[43mrun_line_magic\u001b[49m\u001b[43m(\u001b[49m\u001b[38;5;124;43m'\u001b[39;49m\u001b[38;5;124;43mrun\u001b[39;49m\u001b[38;5;124;43m'\u001b[39;49m\u001b[43m,\u001b[49m\u001b[43m \u001b[49m\u001b[38;5;124;43m'\u001b[39;49m\u001b[38;5;124;43m../notebooks/_bootstrap.py\u001b[39;49m\u001b[38;5;124;43m'\u001b[39;49m\u001b[43m)\u001b[49m\n",
      "\u001b[1;32m      2\u001b[0m df\u001b[38;5;241m.\u001b[39mhead()\n",
      "\n",
      "File \u001b[0;32m/Applications/Positron.app/Contents/Resources/app/extensions/positron-python/python_files/lib/ipykernel/py3/IPython/core/interactiveshell.py:2456\u001b[0m, in \u001b[0;36mInteractiveShell.run_line_magic\u001b[0;34m(self, magic_name, line, _stack_depth)\u001b[0m\n",
      "\u001b[1;32m   2454\u001b[0m     kwargs[\u001b[38;5;124m'\u001b[39m\u001b[38;5;124mlocal_ns\u001b[39m\u001b[38;5;124m'\u001b[39m] \u001b[38;5;241m=\u001b[39m \u001b[38;5;28mself\u001b[39m\u001b[38;5;241m.\u001b[39mget_local_scope(stack_depth)\n",
      "\u001b[1;32m   2455\u001b[0m \u001b[38;5;28;01mwith\u001b[39;00m \u001b[38;5;28mself\u001b[39m\u001b[38;5;241m.\u001b[39mbuiltin_trap:\n",
      "\u001b[0;32m-> 2456\u001b[0m     result \u001b[38;5;241m=\u001b[39m \u001b[43mfn\u001b[49m\u001b[43m(\u001b[49m\u001b[38;5;241;43m*\u001b[39;49m\u001b[43margs\u001b[49m\u001b[43m,\u001b[49m\u001b[43m \u001b[49m\u001b[38;5;241;43m*\u001b[39;49m\u001b[38;5;241;43m*\u001b[39;49m\u001b[43mkwargs\u001b[49m\u001b[43m)\u001b[49m\n",
      "\u001b[1;32m   2458\u001b[0m \u001b[38;5;66;03m# The code below prevents the output from being displayed\u001b[39;00m\n",
      "\u001b[1;32m   2459\u001b[0m \u001b[38;5;66;03m# when using magics with decorator @output_can_be_silenced\u001b[39;00m\n",
      "\u001b[1;32m   2460\u001b[0m \u001b[38;5;66;03m# when the last Python token in the expression is a ';'.\u001b[39;00m\n",
      "\u001b[1;32m   2461\u001b[0m \u001b[38;5;28;01mif\u001b[39;00m \u001b[38;5;28mgetattr\u001b[39m(fn, magic\u001b[38;5;241m.\u001b[39mMAGIC_OUTPUT_CAN_BE_SILENCED, \u001b[38;5;28;01mFalse\u001b[39;00m):\n",
      "\n",
      "File \u001b[0;32m/Applications/Positron.app/Contents/Resources/app/extensions/positron-python/python_files/lib/ipykernel/py3/IPython/core/magics/execution.py:727\u001b[0m, in \u001b[0;36mExecutionMagics.run\u001b[0;34m(self, parameter_s, runner, file_finder)\u001b[0m\n",
      "\u001b[1;32m    725\u001b[0m     \u001b[38;5;28;01mif\u001b[39;00m os\u001b[38;5;241m.\u001b[39mname \u001b[38;5;241m==\u001b[39m \u001b[38;5;124m'\u001b[39m\u001b[38;5;124mnt\u001b[39m\u001b[38;5;124m'\u001b[39m \u001b[38;5;129;01mand\u001b[39;00m re\u001b[38;5;241m.\u001b[39mmatch(\u001b[38;5;124mr\u001b[39m\u001b[38;5;124m\"\u001b[39m\u001b[38;5;124m^\u001b[39m\u001b[38;5;124m'\u001b[39m\u001b[38;5;124m.*\u001b[39m\u001b[38;5;124m'\u001b[39m\u001b[38;5;124m$\u001b[39m\u001b[38;5;124m\"\u001b[39m,fpath):\n",
      "\u001b[1;32m    726\u001b[0m         warn(\u001b[38;5;124m'\u001b[39m\u001b[38;5;124mFor Windows, use double quotes to wrap a filename: \u001b[39m\u001b[38;5;132;01m%r\u001b[39;00m\u001b[38;5;124mun \u001b[39m\u001b[38;5;124m\"\u001b[39m\u001b[38;5;124mmypath\u001b[39m\u001b[38;5;130;01m\\\\\u001b[39;00m\u001b[38;5;124mmyfile.py\u001b[39m\u001b[38;5;124m\"\u001b[39m\u001b[38;5;124m'\u001b[39m)\n",
      "\u001b[0;32m--> 727\u001b[0m     \u001b[38;5;28;01mraise\u001b[39;00m \u001b[38;5;167;01mException\u001b[39;00m(msg) \u001b[38;5;28;01mfrom\u001b[39;00m\u001b[38;5;250m \u001b[39m\u001b[38;5;21;01me\u001b[39;00m\n",
      "\u001b[1;32m    728\u001b[0m \u001b[38;5;28;01mexcept\u001b[39;00m \u001b[38;5;167;01mTypeError\u001b[39;00m:\n",
      "\u001b[1;32m    729\u001b[0m     \u001b[38;5;28;01mif\u001b[39;00m fpath \u001b[38;5;129;01min\u001b[39;00m sys\u001b[38;5;241m.\u001b[39mmeta_path:\n",
      "\n",
      "\u001b[0;31mException\u001b[0m: File `'../notebooks/_bootstrap.py'` not found."
     ]
    }
   ],
   "source": [
    "%run ../notebooks/_bootstrap.py\n",
    "df.head()"
   ]
  },
  {
   "cell_type": "code",
   "execution_count": 2,
   "id": "4078a3b8",
   "metadata": {},
   "outputs": [
    {
     "name": "stdout",
     "output_type": "stream",
     "text": [
      "Dataset missing — generating via scripts/generate_dataset.py ...\n"
     ]
    },
    {
     "name": "stderr",
     "output_type": "stream",
     "text": [
      "/Users/gunter/.pyenv/versions/3.10.14/bin/python: can't open file '/Users/gunter/Documents/fb2nep-epi/notebooks/scripts/generate_dataset.py': [Errno 2] No such file or directory\n"
     ]
    },
    {
     "ename": "SystemExit",
     "evalue": "Generation failed. Check scripts/generate_dataset.py output.",
     "output_type": "error",
     "traceback": [
      "An exception has occurred, use %tb to see the full traceback.\n",
      "\n",
      "\u001b[0;31mSystemExit\u001b[0m\u001b[0;31m:\u001b[0m Generation failed. Check scripts/generate_dataset.py output.\n"
     ]
    }
   ],
   "source": [
    "# Ensure dataset exists (works in Colab and locally)\n",
    "import os, subprocess, shlex\n",
    "if not os.path.exists(PATH):\n",
    "    print(\"Dataset missing — generating via scripts/generate_dataset.py ...\")\n",
    "    ret = subprocess.run(shlex.split(\"python scripts/generate_dataset.py\"))\n",
    "    if ret.returncode != 0:\n",
    "        raise SystemExit(\"Generation failed. Check scripts/generate_dataset.py output.\")\n",
    "df = pd.read_csv(PATH)\n",
    "df.head(3)"
   ]
  },
  {
   "cell_type": "markdown",
   "id": "01193978",
   "metadata": {},
   "source": [
    "## First look"
   ]
  },
  {
   "cell_type": "code",
   "execution_count": 1,
   "id": "6dd7166f",
   "metadata": {},
   "outputs": [
    {
     "name": "stdout",
     "output_type": "stream",
     "text": [
      "Generating dataset…\n",
      "> python scripts/generate_dataset.py\n",
      "Wrote data/synthetic/fb2nep.csv with shape (25000, 27)\n",
      "   id baseline_date  follow_up_years  age  ... CVD_incident    CVD_date  Cancer_incident Cancer_date\n",
      "0   1    2011-05-27             6.44   59  ...            1  2016-11-14                1  2015-10-01\n",
      "1   2    2010-08-14             7.50   60  ...            0                            0            \n",
      "2   3    2012-04-28             7.57   54  ...            0                            0            \n",
      "3   4    2015-01-20             5.71   67  ...            0                            0            \n",
      "4   5    2013-04-10             6.30   70  ...            0                            0            \n",
      "\n",
      "[5 rows x 27 columns]\n",
      "Generated: data/synthetic/fb2nep.csv ✅\n",
      "(25000, 27) — dataset ready\n"
     ]
    },
    {
     "data": {
      "text/html": [
       "<div>\n",
       "<style scoped>\n",
       "    .dataframe tbody tr th:only-of-type {\n",
       "        vertical-align: middle;\n",
       "    }\n",
       "\n",
       "    .dataframe tbody tr th {\n",
       "        vertical-align: top;\n",
       "    }\n",
       "\n",
       "    .dataframe thead th {\n",
       "        text-align: right;\n",
       "    }\n",
       "</style>\n",
       "<table border=\"1\" class=\"dataframe\">\n",
       "  <thead>\n",
       "    <tr style=\"text-align: right;\">\n",
       "      <th></th>\n",
       "      <th>id</th>\n",
       "      <th>baseline_date</th>\n",
       "      <th>follow_up_years</th>\n",
       "      <th>age</th>\n",
       "      <th>sex</th>\n",
       "      <th>menopausal_status</th>\n",
       "      <th>IMD_quintile</th>\n",
       "      <th>SES_class</th>\n",
       "      <th>smoking_status</th>\n",
       "      <th>physical_activity</th>\n",
       "      <th>...</th>\n",
       "      <th>ssb_ml_d</th>\n",
       "      <th>fibre_g_d</th>\n",
       "      <th>alcohol_units_wk</th>\n",
       "      <th>salt_g_d</th>\n",
       "      <th>plasma_vitC_umol_L</th>\n",
       "      <th>urinary_sodium_mmol_L</th>\n",
       "      <th>CVD_incident</th>\n",
       "      <th>CVD_date</th>\n",
       "      <th>Cancer_incident</th>\n",
       "      <th>Cancer_date</th>\n",
       "    </tr>\n",
       "  </thead>\n",
       "  <tbody>\n",
       "    <tr>\n",
       "      <th>0</th>\n",
       "      <td>1</td>\n",
       "      <td>2011-05-27</td>\n",
       "      <td>6.44</td>\n",
       "      <td>59</td>\n",
       "      <td>M</td>\n",
       "      <td>NaN</td>\n",
       "      <td>5</td>\n",
       "      <td>ABC1</td>\n",
       "      <td>current</td>\n",
       "      <td>low</td>\n",
       "      <td>...</td>\n",
       "      <td>159.0</td>\n",
       "      <td>15.2</td>\n",
       "      <td>0.0</td>\n",
       "      <td>4.1</td>\n",
       "      <td>40.3</td>\n",
       "      <td>94.6</td>\n",
       "      <td>1</td>\n",
       "      <td>2016-11-14</td>\n",
       "      <td>1</td>\n",
       "      <td>2015-10-01</td>\n",
       "    </tr>\n",
       "    <tr>\n",
       "      <th>1</th>\n",
       "      <td>2</td>\n",
       "      <td>2010-08-14</td>\n",
       "      <td>7.50</td>\n",
       "      <td>60</td>\n",
       "      <td>M</td>\n",
       "      <td>NaN</td>\n",
       "      <td>4</td>\n",
       "      <td>ABC1</td>\n",
       "      <td>never</td>\n",
       "      <td>low</td>\n",
       "      <td>...</td>\n",
       "      <td>206.0</td>\n",
       "      <td>11.2</td>\n",
       "      <td>0.0</td>\n",
       "      <td>5.0</td>\n",
       "      <td>36.1</td>\n",
       "      <td>104.4</td>\n",
       "      <td>0</td>\n",
       "      <td>NaN</td>\n",
       "      <td>0</td>\n",
       "      <td>NaN</td>\n",
       "    </tr>\n",
       "    <tr>\n",
       "      <th>2</th>\n",
       "      <td>3</td>\n",
       "      <td>2012-04-28</td>\n",
       "      <td>7.57</td>\n",
       "      <td>54</td>\n",
       "      <td>F</td>\n",
       "      <td>post</td>\n",
       "      <td>4</td>\n",
       "      <td>ABC1</td>\n",
       "      <td>former</td>\n",
       "      <td>moderate</td>\n",
       "      <td>...</td>\n",
       "      <td>233.0</td>\n",
       "      <td>26.4</td>\n",
       "      <td>0.0</td>\n",
       "      <td>7.3</td>\n",
       "      <td>46.3</td>\n",
       "      <td>130.9</td>\n",
       "      <td>0</td>\n",
       "      <td>NaN</td>\n",
       "      <td>0</td>\n",
       "      <td>NaN</td>\n",
       "    </tr>\n",
       "    <tr>\n",
       "      <th>3</th>\n",
       "      <td>4</td>\n",
       "      <td>2015-01-20</td>\n",
       "      <td>5.71</td>\n",
       "      <td>67</td>\n",
       "      <td>F</td>\n",
       "      <td>post</td>\n",
       "      <td>3</td>\n",
       "      <td>ABC1</td>\n",
       "      <td>never</td>\n",
       "      <td>low</td>\n",
       "      <td>...</td>\n",
       "      <td>399.0</td>\n",
       "      <td>10.5</td>\n",
       "      <td>8.0</td>\n",
       "      <td>4.9</td>\n",
       "      <td>31.4</td>\n",
       "      <td>78.0</td>\n",
       "      <td>0</td>\n",
       "      <td>NaN</td>\n",
       "      <td>0</td>\n",
       "      <td>NaN</td>\n",
       "    </tr>\n",
       "    <tr>\n",
       "      <th>4</th>\n",
       "      <td>5</td>\n",
       "      <td>2013-04-10</td>\n",
       "      <td>6.30</td>\n",
       "      <td>70</td>\n",
       "      <td>M</td>\n",
       "      <td>NaN</td>\n",
       "      <td>1</td>\n",
       "      <td>C2DE</td>\n",
       "      <td>current</td>\n",
       "      <td>moderate</td>\n",
       "      <td>...</td>\n",
       "      <td>600.0</td>\n",
       "      <td>25.9</td>\n",
       "      <td>0.0</td>\n",
       "      <td>9.1</td>\n",
       "      <td>33.1</td>\n",
       "      <td>154.1</td>\n",
       "      <td>0</td>\n",
       "      <td>NaN</td>\n",
       "      <td>0</td>\n",
       "      <td>NaN</td>\n",
       "    </tr>\n",
       "  </tbody>\n",
       "</table>\n",
       "<p>5 rows × 27 columns</p>\n",
       "</div>"
      ],
      "text/plain": [
       "   id baseline_date  follow_up_years  age sex menopausal_status  IMD_quintile  \\\n",
       "0   1    2011-05-27             6.44   59   M               NaN             5   \n",
       "1   2    2010-08-14             7.50   60   M               NaN             4   \n",
       "2   3    2012-04-28             7.57   54   F              post             4   \n",
       "3   4    2015-01-20             5.71   67   F              post             3   \n",
       "4   5    2013-04-10             6.30   70   M               NaN             1   \n",
       "\n",
       "  SES_class smoking_status physical_activity  ...  ssb_ml_d  fibre_g_d  \\\n",
       "0      ABC1        current               low  ...     159.0       15.2   \n",
       "1      ABC1          never               low  ...     206.0       11.2   \n",
       "2      ABC1         former          moderate  ...     233.0       26.4   \n",
       "3      ABC1          never               low  ...     399.0       10.5   \n",
       "4      C2DE        current          moderate  ...     600.0       25.9   \n",
       "\n",
       "   alcohol_units_wk  salt_g_d  plasma_vitC_umol_L  urinary_sodium_mmol_L  \\\n",
       "0               0.0       4.1                40.3                   94.6   \n",
       "1               0.0       5.0                36.1                  104.4   \n",
       "2               0.0       7.3                46.3                  130.9   \n",
       "3               8.0       4.9                31.4                   78.0   \n",
       "4               0.0       9.1                33.1                  154.1   \n",
       "\n",
       "   CVD_incident    CVD_date  Cancer_incident  Cancer_date  \n",
       "0             1  2016-11-14                1   2015-10-01  \n",
       "1             0         NaN                0          NaN  \n",
       "2             0         NaN                0          NaN  \n",
       "3             0         NaN                0          NaN  \n",
       "4             0         NaN                0          NaN  \n",
       "\n",
       "[5 rows x 27 columns]"
      ]
     },
     "execution_count": null,
     "metadata": {},
     "output_type": "execute_result"
    }
   ],
   "source": [
    "%run ../notebooks/_bootstrap.py\n",
    "# now df is loaded; CSV_REL/REPO_ROOT/IN_COLAB are available\n",
    "df.head()"
   ]
  },
  {
   "cell_type": "code",
   "execution_count": null,
   "metadata": {},
   "outputs": [],
   "source": [
    "df.describe(include='all', datetime_is_numeric=True)"
   ]
  },
  {
   "cell_type": "markdown",
   "metadata": {},
   "source": [
    "### Measurement error (discussion)\n",
    "- Self-reported diet vs biomarkers (e.g. fruit/veg vs plasma vitamin C).\n",
    "- Day-to-day variation and systematic bias."
   ]
  },
  {
   "cell_type": "markdown",
   "metadata": {},
   "source": [
    "### # TODO · Quintiles of fruit/veg vs plasma vitamin C"
   ]
  },
  {
   "cell_type": "code",
   "execution_count": null,
   "metadata": {},
   "outputs": [],
   "source": [
    "# Compute mean vitamin C by quintiles of fruit_veg_g_d and assert monotonicity.\n",
    "q = pd.qcut(df['fruit_veg_g_d'], 5, duplicates='drop')\n",
    "res = df.groupby(q)['plasma_vitC_umol_L'].agg(['mean','std','count']).round(2)\n",
    "# Expect monotone increase in mean vit C\n",
    "assert res['mean'].is_monotonic_increasing, \"Mean vit C should increase across fruit/veg quintiles\"\n",
    "res"
   ]
  },
  {
   "cell_type": "markdown",
   "metadata": {},
   "source": [
    "### Checkpoint\n",
    "- Note any odd ranges or surprising values you want to revisit later."
   ]
  }
 ],
 "metadata": {
  "colab": {
   "provenance": []
  },
  "kernelspec": {
   "display_name": "Python 3",
   "language": "python",
   "name": "python3"
  },
  "language_info": {
   "name": "python"
  }
 },
 "nbformat": 4,
 "nbformat_minor": 5
}
