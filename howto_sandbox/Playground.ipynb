{
 "cells": [
  {
   "cell_type": "markdown",
   "id": "fccca2d4",
   "metadata": {},
   "source": [
    "# Playground (Sandbox)\n",
    "\n",
    "This is a safe space to **experiment**. It generates a small synthetic dataset so you can practise plotting and simple analyses used in FB2NEP.\n",
    "\n",
    "- Run the setup cells from top to bottom.  \n",
    "- Change the parameters (like sample size) and re‑run to see what happens.\n"
   ]
  },
  {
   "cell_type": "code",
   "execution_count": null,
   "id": "326f57f9",
   "metadata": {},
   "outputs": [],
   "source": [
    "# Setup: imports\n",
    "import numpy as np\n",
    "import pandas as pd\n",
    "import matplotlib.pyplot as plt\n",
    "\n",
    "import scipy.stats as stats\n",
    "import statsmodels.api as sm\n",
    "import statsmodels.formula.api as smf\n",
    "\n",
    "pd.set_option(\"display.max_columns\", 50)\n"
   ]
  },
  {
   "cell_type": "markdown",
   "id": "3aabb0f7",
   "metadata": {},
   "source": [
    "## 1) Parameters — change these and re‑run"
   ]
  },
  {
   "cell_type": "code",
   "execution_count": null,
   "id": "b7febe2a",
   "metadata": {},
   "outputs": [],
   "source": [
    "# ▶ Try changing N or the effect sizes and re‑run the next cells\n",
    "N = 400          # sample size\n",
    "SEED = 11088     # random seed for reproducibility\n",
    "RATIO_F = 0.6    # fraction female\n",
    "GROUP_EFFECT = -3.5  # mean SBP difference (B vs A), in mmHg\n",
    "\n",
    "np.random.seed(SEED)\n"
   ]
  },
  {
   "cell_type": "markdown",
   "id": "475735fb",
   "metadata": {},
   "source": [
    "## 2) Generate a simple dataset"
   ]
  },
  {
   "cell_type": "code",
   "execution_count": null,
   "id": "4d791ed1",
   "metadata": {},
   "outputs": [],
   "source": [
    "ages = np.random.normal(45, 12, N).round(1)\n",
    "bmi  = np.random.normal(26, 4, N).round(1)\n",
    "\n",
    "sex = np.where(np.random.rand(N) < RATIO_F, \"F\", \"M\")\n",
    "group = np.where(np.random.rand(N) < 0.5, \"A\", \"B\")\n",
    "\n",
    "# SBP depends on age, BMI, sex, and group (B has lower mean by GROUP_EFFECT)\n",
    "base = 110 + 0.35*ages + 0.9*bmi + np.where(sex==\"M\", 4.0, 0.0)\n",
    "sbp = base + np.where(group==\"B\", GROUP_EFFECT, 0.0) + np.random.normal(0, 8, N)\n",
    "\n",
    "# Total cholesterol (mmol/L) loosely related to age/BMI\n",
    "chol = 3.8 + 0.015*ages + 0.05*bmi + np.random.normal(0, 0.4, N)\n",
    "\n",
    "# Binary outcome: high SBP (≥140)\n",
    "high_sbp = (sbp >= 140).astype(int)\n",
    "\n",
    "df = pd.DataFrame({\n",
    "    \"age\": ages,\n",
    "    \"bmi\": bmi,\n",
    "    \"sex\": sex,\n",
    "    \"group\": group,\n",
    "    \"sbp\": sbp.round(1),\n",
    "    \"chol\": chol.round(2),\n",
    "    \"high_sbp\": high_sbp\n",
    "})\n",
    "df.head()"
   ]
  },
  {
   "cell_type": "markdown",
   "id": "a13bf95b",
   "metadata": {},
   "source": [
    "## 3) Quick exploration\n",
    "\n",
    "Run the following cells; then try changing parameters above (e.g. `N`, `GROUP_EFFECT`) and re‑run.\n"
   ]
  },
  {
   "cell_type": "code",
   "execution_count": null,
   "id": "30e0407c",
   "metadata": {},
   "outputs": [],
   "source": [
    "df.shape, df.info()"
   ]
  },
  {
   "cell_type": "code",
   "execution_count": null,
   "id": "9e5dc4b6",
   "metadata": {},
   "outputs": [],
   "source": [
    "df.describe(include=\"all\")"
   ]
  },
  {
   "cell_type": "code",
   "execution_count": null,
   "id": "f4e4305c",
   "metadata": {},
   "outputs": [],
   "source": [
    "df['sex'].value_counts(), df['group'].value_counts()"
   ]
  },
  {
   "cell_type": "code",
   "execution_count": null,
   "id": "a3e321ba",
   "metadata": {},
   "outputs": [],
   "source": [
    "df.isna().mean()  # missingness per column"
   ]
  },
  {
   "cell_type": "markdown",
   "id": "1535b80c",
   "metadata": {},
   "source": [
    "## 4) Plots"
   ]
  },
  {
   "cell_type": "code",
   "execution_count": null,
   "id": "3430bd67",
   "metadata": {},
   "outputs": [],
   "source": [
    "# Histogram of SBP\n",
    "df['sbp'].hist(bins=25)\n",
    "plt.xlabel(\"SBP (mmHg)\"); plt.ylabel(\"Count\"); plt.title(\"SBP distribution\")\n",
    "plt.show()"
   ]
  },
  {
   "cell_type": "code",
   "execution_count": null,
   "id": "aabd2629",
   "metadata": {},
   "outputs": [],
   "source": [
    "# Boxplot by group\n",
    "df.boxplot(column=\"sbp\", by=\"group\")\n",
    "plt.suptitle(\"\"); plt.title(\"SBP by group\"); plt.xlabel(\"group\"); plt.ylabel(\"SBP (mmHg)\")\n",
    "plt.show()"
   ]
  },
  {
   "cell_type": "code",
   "execution_count": null,
   "id": "709735e3",
   "metadata": {},
   "outputs": [],
   "source": [
    "# Scatter: BMI vs SBP\n",
    "plt.scatter(df['bmi'], df['sbp'])\n",
    "plt.xlabel(\"BMI\"); plt.ylabel(\"SBP (mmHg)\"); plt.title(\"BMI vs SBP\")\n",
    "plt.show()"
   ]
  },
  {
   "cell_type": "markdown",
   "id": "de65dbd8",
   "metadata": {},
   "source": [
    "## 5) Table 1‑style summary"
   ]
  },
  {
   "cell_type": "code",
   "execution_count": null,
   "id": "16521886",
   "metadata": {},
   "outputs": [],
   "source": [
    "# Continuous variables by group\n",
    "cont = df.groupby('group')[['age','bmi','sbp','chol']].agg(['mean','std','count'])\n",
    "cont"
   ]
  },
  {
   "cell_type": "code",
   "execution_count": null,
   "id": "a0328983",
   "metadata": {},
   "outputs": [],
   "source": [
    "# Categorical variables by group\n",
    "pd.crosstab(df['group'], df['sex'], margins=True, normalize='index')"
   ]
  },
  {
   "cell_type": "markdown",
   "id": "f900e0c7",
   "metadata": {},
   "source": [
    "## 6) Basic hypothesis tests"
   ]
  },
  {
   "cell_type": "code",
   "execution_count": null,
   "id": "6b16fd9b",
   "metadata": {},
   "outputs": [],
   "source": [
    "# Two-sample t-test: SBP between A and B\n",
    "a = df.loc[df['group']=='A','sbp']\n",
    "b = df.loc[df['group']=='B','sbp']\n",
    "stats.ttest_ind(a, b, equal_var=False)"
   ]
  },
  {
   "cell_type": "code",
   "execution_count": null,
   "id": "32119611",
   "metadata": {},
   "outputs": [],
   "source": [
    "# Chi-square test: sex distribution by group\n",
    "tab = pd.crosstab(df['group'], df['sex'])\n",
    "tab, stats.chi2_contingency(tab)[:2]  # (table, (chi2, p))"
   ]
  },
  {
   "cell_type": "markdown",
   "id": "1b1bb398",
   "metadata": {},
   "source": [
    "## 7) Simple models\n",
    "\n",
    "We’ll use `statsmodels` with formula syntax. `C(var)` treats a variable as categorical.\n"
   ]
  },
  {
   "cell_type": "code",
   "execution_count": null,
   "id": "d1a89a3e",
   "metadata": {},
   "outputs": [],
   "source": [
    "# OLS: SBP ~ age + BMI + sex + group\n",
    "ols = smf.ols(\"sbp ~ age + bmi + C(sex) + C(group)\", data=df).fit()\n",
    "ols.summary()"
   ]
  },
  {
   "cell_type": "code",
   "execution_count": null,
   "id": "1cb978ff",
   "metadata": {},
   "outputs": [],
   "source": [
    "# Logistic regression: high_sbp (0/1) ~ predictors\n",
    "logit = smf.logit(\"high_sbp ~ age + bmi + C(sex) + C(group)\", data=df).fit(disp=False)\n",
    "logit.summary()"
   ]
  },
  {
   "cell_type": "markdown",
   "id": "a54f21fd",
   "metadata": {},
   "source": [
    "## 8) Your turn — try these\n",
    "\n",
    "- Change `GROUP_EFFECT` to `+2.0` (so group B has **higher** SBP) and re‑generate. What happens to the t‑test and model coefficients?  \n",
    "- Increase `N` to 2000. Do p‑values change? Why?  \n",
    "- Add `C(group):C(sex)` interaction to the OLS formula. Does it help?  \n",
    "- Create a new variable `waist = 2.5*bmi + noise` and see how it relates to SBP.\n"
   ]
  }
 ],
 "metadata": {
  "colab": {
   "name": "Playground.ipynb"
  }
 },
 "nbformat": 4,
 "nbformat_minor": 5
}
