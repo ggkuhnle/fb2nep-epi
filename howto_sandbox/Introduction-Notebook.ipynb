{
 "cells": [
  {
   "cell_type": "markdown",
   "id": "4126c071",
   "metadata": {},
   "source": [
    "# Introduction to Colab & Python (FB2NEP)\n",
    "\n",
    "Welcome — this notebook assumes **no prior Python experience**. You’ll learn how to run cells, accept Colab warnings, and make tiny edits to code.\n",
    "\n",
    "> **Tip:** If you see a message like *“This notebook was not authored by Google”*, click **Run anyway**. Our teaching notebooks are plain text and safe to run in Colab’s sandbox.\n"
   ]
  },
  {
   "cell_type": "markdown",
   "id": "ef07e5d4",
   "metadata": {},
   "source": [
    "## 0. What does Python *code* look like? (read this first)\n",
    "\n",
    "Python is a set of **instructions** written line by line.  \n",
    "Anything after a `#` on a line is a **comment** — it’s for humans to read and **Python ignores it**.\n",
    "\n",
    "Example:\n",
    "\n",
    "```python\n",
    "# This is a comment — it explains the next line\n",
    "x = 2 + 3            # ← comment at the end of a line\n",
    "print(x)             # prints 5 on the screen\n",
    "```\n",
    "\n",
    "You **run** code by clicking the little ▶ button to the left of a cell, or by pressing **Shift + Enter**.\n",
    "\n",
    "> If you see a warning like *“This notebook was not authored by Google”*, click **Run anyway**.  \n",
    "> Colab runs code safely in the cloud and won’t change anything on your computer.\n",
    "\n",
    "*(Psst… if you spot a tiny hippo 🦛 in a comment later, it’s an easter egg.)*\n"
   ]
  },
  {
   "cell_type": "markdown",
   "id": "c203f4f1",
   "metadata": {},
   "source": [
    "## 1. Running a cell\n",
    "\n",
    "Click the ▶ icon to the left of a cell, or press **Shift + Enter**.\n",
    "\n",
    "Try it now — run the cell below.\n"
   ]
  },
  {
   "cell_type": "code",
   "execution_count": null,
   "id": "072b16fa",
   "metadata": {},
   "outputs": [],
   "source": [
    "# ----------------------------------------------\n",
    "# Adding two numbers\n",
    "# This cell has comments that explain each step.\n",
    "# Lines starting with '#' are comments and do not run.\n",
    "# ----------------------------------------------\n",
    "# 🦛 Friendly hippo says: Maths can be fun!\n",
    "2 + 2    # add two numbers\n"
   ]
  },
  {
   "cell_type": "markdown",
   "id": "c7cabd32",
   "metadata": {},
   "source": [
    "Now **edit** the code above (e.g. change it to `2 + 3`) and run it again. You should see the new result immediately.\n"
   ]
  },
  {
   "cell_type": "markdown",
   "id": "f241a352",
   "metadata": {},
   "source": [
    "## 2. What Python are we using?"
   ]
  },
  {
   "cell_type": "code",
   "execution_count": null,
   "id": "450bad75",
   "metadata": {},
   "outputs": [],
   "source": [
    "# ----------------------------------------------\n",
    "# Show Python version and executable\n",
    "# ----------------------------------------------\n",
    "import sys, platform   # import = bring tools into Python\n",
    "print(\"Python executable:\", sys.executable)    # where Python lives in Colab\n",
    "print(\"Python version:\", sys.version.split()[0])  # which Python version\n"
   ]
  },
  {
   "cell_type": "markdown",
   "id": "293ca869",
   "metadata": {},
   "source": [
    "## 3. Variables and printing\n",
    "\n",
    "Run the next cell, then change the values and run again.\n"
   ]
  },
  {
   "cell_type": "code",
   "execution_count": null,
   "id": "19e0a3a5",
   "metadata": {},
   "outputs": [],
   "source": [
    "# ----------------------------------------------\n",
    "# Say hello with variables\n",
    "# ----------------------------------------------\n",
    "name = \"Charlotte\"    # a text value (a 'string')\n",
    "year = 2025            # a number\n",
    "print(\"Hello\", name, \"— welcome to FB2NEP\", year)   # show something on the screen\n"
   ]
  },
  {
   "cell_type": "markdown",
   "id": "238d862c",
   "metadata": {},
   "source": [
    "## 4. Lists and simple maths"
   ]
  },
  {
   "cell_type": "code",
   "execution_count": null,
   "id": "a757f359",
   "metadata": {},
   "outputs": [],
   "source": [
    "# ----------------------------------------------\n",
    "# List of numbers — total and mean\n",
    "# ----------------------------------------------\n",
    "nums = [3, 5, 8, 12]     # a list: an ordered box of values\n",
    "total = sum(nums)        # sum() adds up numbers\n",
    "mean = total / len(nums) # average = total divided by how many\n",
    "print(\"Numbers:\", nums)\n",
    "print(\"Total:\", total, \"Mean:\", mean)\n"
   ]
  },
  {
   "cell_type": "markdown",
   "id": "60847129",
   "metadata": {},
   "source": [
    "## 5. First steps with data (pandas)"
   ]
  },
  {
   "cell_type": "code",
   "execution_count": null,
   "id": "0c6afeff",
   "metadata": {},
   "outputs": [],
   "source": [
    "# ----------------------------------------------\n",
    "# Create a tiny table (DataFrame)\n",
    "# ----------------------------------------------\n",
    "import numpy as np       # import = bring tools into Python\n",
    "import pandas as pd\n",
    "\n",
    "# Create a tiny DataFrame with two columns\n",
    "df = pd.DataFrame({\n",
    "    \"age\": [8, 9, 10, 11, 12],\n",
    "    \"height_cm\": [130, 135, 140, 145, 150],\n",
    "})\n",
    "df   # show the table\n"
   ]
  },
  {
   "cell_type": "markdown",
   "id": "f54bce28",
   "metadata": {},
   "source": [
    "Change a number in the table creation above (e.g. one of the heights) and run again. Do you see the change?\n"
   ]
  },
  {
   "cell_type": "markdown",
   "id": "4b72513e",
   "metadata": {},
   "source": [
    "## 6. A first plot (matplotlib)\n",
    "\n",
    "This draws a simple line plot. In Colab, plots appear directly under the cell.\n"
   ]
  },
  {
   "cell_type": "code",
   "execution_count": null,
   "id": "0ad72584",
   "metadata": {},
   "outputs": [],
   "source": [
    "# ----------------------------------------------\n",
    "# Line plot of age vs height\n",
    "# ----------------------------------------------\n",
    "import matplotlib.pyplot as plt   # plotting library\n",
    "\n",
    "# 🦛 Friendly hippo says: A picture tells a story!\n",
    "plt.plot(df[\"age\"], df[\"height_cm\"], marker=\"o\")   # draw a line with dots\n",
    "plt.xlabel(\"Age (years)\")   # label the x-axis\n",
    "plt.ylabel(\"Height (cm)\")   # label the y-axis\n",
    "plt.title(\"Example plot\")   # add a title\n",
    "plt.show()                   # display the picture\n"
   ]
  },
  {
   "cell_type": "markdown",
   "id": "a3f7e381",
   "metadata": {},
   "source": [
    "## 7. Save your own copy (important)\n",
    "\n",
    "Go to **File → Save a copy in Drive**. That creates a personal copy you can edit without affecting the teaching version.\n",
    "\n",
    "## 8. If something breaks\n",
    "\n",
    "- **Runtime → Restart runtime**, then run cells again from the top.  \n",
    "- If a library is missing, install it with `!pip install ...` then restart the runtime.\n"
   ]
  },
  {
   "cell_type": "markdown",
   "id": "0df93468",
   "metadata": {},
   "source": [
    "---\n",
    "\n",
    "## 9. Advanced (peek ahead, optional)\n",
    "\n",
    "These are ideas you’ll meet later. It’s okay if they feel new!\n",
    "\n",
    "- **List**: an ordered collection that you can change.  \n",
    "- **Tuple**: like a list, but *fixed* once created.  \n",
    "- **Dictionary (dict)**: pairs of `key: value` (like a mini address book).  \n",
    "- **Set**: a bag of *unique* items, no duplicates.  \n",
    "- **OOP (Object-Oriented Programming)**: a way to bundle **data** and **behaviour** together.\n"
   ]
  },
  {
   "cell_type": "code",
   "execution_count": null,
   "id": "60fde93e",
   "metadata": {},
   "outputs": [],
   "source": [
    "# ----------------------------------------------\n",
    "# Advanced containers (lists, tuples, dicts, sets)\n",
    "# ----------------------------------------------\n",
    "\n",
    "# List: ordered, changeable\n",
    "fruits = [\"apple\", \"banana\", \"pear\"]\n",
    "fruits.append(\"apple\")        # duplicate allowed\n",
    "# 🦛 notice: lists keep order and allow repeats\n",
    "print(\"List:\", fruits)\n",
    "\n",
    "# Tuple: ordered, not changeable (immutable)\n",
    "coords = (51.44, -0.94)       # (lat, lon) for Reading-ish\n",
    "print(\"Tuple:\", coords)\n",
    "\n",
    "# Dict: key → value mapping\n",
    "heights = {\"Alex\": 150, \"Sam\": 145}\n",
    "heights[\"Sam\"] = 146          # update a value\n",
    "print(\"Dict:\", heights)\n",
    "\n",
    "# Set: unique items, no order\n",
    "unique_fruits = set(fruits)\n",
    "print(\"Set (unique):\", unique_fruits)\n"
   ]
  },
  {
   "cell_type": "markdown",
   "id": "99bc68ae",
   "metadata": {},
   "source": [
    "### A tiny taste of OOP (classes)\n",
    "\n",
    "Think of a **class** as a blueprint. An **object** is a thing made from that blueprint.\n"
   ]
  },
  {
   "cell_type": "code",
   "execution_count": null,
   "id": "03464d73",
   "metadata": {},
   "outputs": [],
   "source": [
    "# ----------------------------------------------\n",
    "# A tiny class: Hippo — with data and behaviours\n",
    "# ----------------------------------------------\n",
    "\n",
    "class Hippo:\n",
    "    # The special __init__ method sets up new hippos\n",
    "    def __init__(self, name, favourite_food=\"water plants\"):\n",
    "        self.name = name                    # data (an attribute)\n",
    "        self.favourite_food = favourite_food\n",
    "\n",
    "    # A behaviour (a method): the hippo can introduce itself\n",
    "    def introduce(self):\n",
    "        print(f\"Hello, I'm {self.name} the hippo. I like {self.favourite_food}.\")\n",
    "    \n",
    "    # Another behaviour\n",
    "    def eat(self, food):\n",
    "        if food == self.favourite_food:\n",
    "            print(f\"Yum! {self.name} loves {food}. 🦛\")\n",
    "        else:\n",
    "            print(f\"{self.name} tries {food}… not bad!\")\n",
    "\n",
    "# Make an object (an instance) from the class\n",
    "h = Hippo(\"Hildegard\", favourite_food=\"lotus leaves\")\n",
    "h.introduce()      # call a method\n",
    "h.eat(\"lotus leaves\")\n",
    "h.eat(\"cabbage\")\n"
   ]
  }
 ],
 "metadata": {
  "colab": {
   "name": "Introduction-Notebook.ipynb"
  }
 },
 "nbformat": 4,
 "nbformat_minor": 5
}
