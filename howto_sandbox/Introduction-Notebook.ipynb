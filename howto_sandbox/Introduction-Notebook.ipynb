{
 "cells": [
  {
   "cell_type": "markdown",
   "id": "303d00a2",
   "metadata": {},
   "source": [
    "# Introduction to Colab & Python (FB2NEP)\n",
    "\n",
    "Welcome — this notebook assumes **no prior Python experience**. You’ll learn how to run cells, accept Colab warnings, and make tiny edits to code.\n",
    "\n",
    "> **Tip:** If you see a message like *“This notebook was not authored by Google”*, click **Run anyway**. Our teaching notebooks are plain text and safe to run in Colab’s sandbox.\n"
   ]
  },
  {
   "cell_type": "markdown",
   "id": "c4e2f0ee",
   "metadata": {},
   "source": [
    "## 1. Running a cell\n",
    "\n",
    "Click the ▶ icon to the left of a cell, or press **Shift + Enter**.\n",
    "\n",
    "Try it now — run the cell below.\n"
   ]
  },
  {
   "cell_type": "code",
   "execution_count": null,
   "id": "c64818da",
   "metadata": {},
   "outputs": [],
   "source": [
    "2 + 2"
   ]
  },
  {
   "cell_type": "markdown",
   "id": "aea8f9e0",
   "metadata": {},
   "source": [
    "Now **edit** the code above (e.g. change it to `2 + 3`) and run it again. You should see the new result immediately.\n"
   ]
  },
  {
   "cell_type": "markdown",
   "id": "667e3942",
   "metadata": {},
   "source": [
    "## 2. What Python are we using?"
   ]
  },
  {
   "cell_type": "code",
   "execution_count": null,
   "id": "3b503f94",
   "metadata": {},
   "outputs": [],
   "source": [
    "import sys, platform\n",
    "print(\"Python executable:\", sys.executable)\n",
    "print(\"Python version:\", sys.version.split()[0])"
   ]
  },
  {
   "cell_type": "markdown",
   "id": "eae26fca",
   "metadata": {},
   "source": [
    "## 3. Variables and printing\n",
    "\n",
    "Run the next cell, then change the values and run again.\n"
   ]
  },
  {
   "cell_type": "code",
   "execution_count": null,
   "id": "41960a0c",
   "metadata": {},
   "outputs": [],
   "source": [
    "name = \"Charlotte\"\n",
    "year = 2025\n",
    "print(\"Hello\", name, \"— welcome to FB2NEP\", year)"
   ]
  },
  {
   "cell_type": "markdown",
   "id": "fc163420",
   "metadata": {},
   "source": [
    "## 4. Lists and simple maths"
   ]
  },
  {
   "cell_type": "code",
   "execution_count": null,
   "id": "8cc491db",
   "metadata": {},
   "outputs": [],
   "source": [
    "nums = [3, 5, 8, 12]\n",
    "total = sum(nums)\n",
    "mean = total / len(nums)\n",
    "print(\"Numbers:\", nums)\n",
    "print(\"Total:\", total, \"Mean:\", mean)"
   ]
  },
  {
   "cell_type": "markdown",
   "id": "a02afad9",
   "metadata": {},
   "source": [
    "## 5. First steps with data (pandas)"
   ]
  },
  {
   "cell_type": "code",
   "execution_count": null,
   "id": "55940835",
   "metadata": {},
   "outputs": [],
   "source": [
    "import numpy as np\n",
    "import pandas as pd\n",
    "\n",
    "# Create a tiny DataFrame\n",
    "df = pd.DataFrame({\n",
    "    \"age\": [8, 9, 10, 11, 12],\n",
    "    \"height_cm\": [130, 135, 140, 145, 150],\n",
    "})\n",
    "df"
   ]
  },
  {
   "cell_type": "markdown",
   "id": "ba8b95d2",
   "metadata": {},
   "source": [
    "Change a number in the table creation above (e.g. one of the heights) and run again. Do you see the change?\n"
   ]
  },
  {
   "cell_type": "markdown",
   "id": "fe06814c",
   "metadata": {},
   "source": [
    "## 6. A first plot (matplotlib)\n",
    "\n",
    "This draws a simple line plot. In Colab, plots appear directly under the cell.\n"
   ]
  },
  {
   "cell_type": "code",
   "execution_count": null,
   "id": "c6a2dc27",
   "metadata": {},
   "outputs": [],
   "source": [
    "import matplotlib.pyplot as plt\n",
    "\n",
    "plt.plot(df[\"age\"], df[\"height_cm\"], marker=\"o\")\n",
    "plt.xlabel(\"Age (years)\")\n",
    "plt.ylabel(\"Height (cm)\")\n",
    "plt.title(\"Example plot\")\n",
    "plt.show()"
   ]
  },
  {
   "cell_type": "markdown",
   "id": "993537b1",
   "metadata": {},
   "source": [
    "## 7. Save your own copy (important)\n",
    "\n",
    "Go to **File → Save a copy in Drive**. That creates a personal copy you can edit without affecting the teaching version.\n",
    "\n",
    "## 8. If something breaks\n",
    "\n",
    "- **Runtime → Restart runtime**, then run cells again from the top.  \n",
    "- If a library is missing, install it with `!pip install ...` then restart the runtime.\n"
   ]
  }
 ],
 "metadata": {
  "colab": {
   "name": "Introduction-Notebook.ipynb"
  }
 },
 "nbformat": 4,
 "nbformat_minor": 5
}
